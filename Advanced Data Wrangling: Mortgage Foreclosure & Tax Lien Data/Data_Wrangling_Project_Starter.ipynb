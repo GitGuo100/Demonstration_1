{
 "cells": [
  {
   "cell_type": "markdown",
   "metadata": {
    "id": "GNIwe5N7s0e_"
   },
   "source": [
    "# Real World Data Wrangling Project\n",
    "### Mortgage Foreclosure & Tax Lien Analysis | Allegheny County, PA"
   ]
  },
  {
   "cell_type": "markdown",
   "metadata": {},
   "source": [
    "## 0. Import Libraries"
   ]
  },
  {
   "cell_type": "code",
   "execution_count": 1,
   "metadata": {},
   "outputs": [],
   "source": [
    "import pandas as pd\n",
    "import numpy as np\n",
    "import requests\n",
    "import matplotlib.pyplot as plt\n",
    "import seaborn as sns"
   ]
  },
  {
   "cell_type": "markdown",
   "metadata": {
    "id": "lDYDkH-Zs7Nn"
   },
   "source": [
    "## 1. Gather data\n",
    "\n",
    "In this section, I will extract data using two different data gathering methods and combine the data. Two different types of data-gathering methods will be utilized."
   ]
  },
  {
   "cell_type": "markdown",
   "metadata": {
    "id": "LbN7z7rcuqpO"
   },
   "source": [
    "### **1.1.** Problem Statement\n",
    "For this project, I aim to analyze the financial distress in municipalities within Allegheny County by investigating mortgage foreclosure and tax lien data. Specifically, I will address two key research questions: identifying the top 5 municipalities with the highest total mortgage foreclosure amounts and the top 5 municipalities with the highest total tax lien amounts. The datasets utilized will include the Allegheny County Mortgage Foreclosure Records and the Allegheny County Tax Liens data."
   ]
  },
  {
   "cell_type": "markdown",
   "metadata": {
    "id": "8AQfBAdUypMm"
   },
   "source": [
    "### **1.2.** Gather at least two datasets using two different data gathering methods\n",
    "\n"
   ]
  },
  {
   "cell_type": "markdown",
   "metadata": {
    "id": "7e6gS0wL1KTu"
   },
   "source": [
    "#### **Dataset 1**\n",
    "\n",
    "**Type**: CSV File\n",
    "\n",
    "**Method**: Download data manually | The chosen method of downloading the data manually ensures that the data is accurate and properly vetted before analysis.\n",
    "\n",
    "**Dataset variables**:\n",
    "\n",
    "* **_id**: An identifier for each record in the dataset.\n",
    "* **pin**: The Property Identification Number, a unique code assigned to each property.\n",
    "* **block_lot**: The block and lot number, which further identifies the specific property within a block.\n",
    "* **filing_date**: The date on which the foreclosure case was filed.\n",
    "* **case_id**: The identification number assigned to the foreclosure case.\n",
    "* **municipality**: The name of the municipality where the property is located.\n",
    "* **ward**: The ward within the municipality\n",
    "* **docket_type**: The type of legal docket or action related to the foreclosure case.\n",
    "* **amount**: The total amount of money involved in the foreclosure\n",
    "* **plaintiff**: The entity (usually a bank or financial institution) that filed the foreclosure case.\n",
    "* **last_activity**: The date or description of the most recent activity in the foreclosure case\n",
    "\n",
    "**Why this dataset**: I picked the Allegheny County Mortgage Foreclosure Records dataset because it provides comprehensive information on properties undergoing foreclosure within the county, which is essential for analyzing financial distress in different municipalities. The dataset includes key variables such as pin, case_id, municipality, and amount, which allow for the identification of municipalities with the highest foreclosure amounts and the financial entities involved."
   ]
  },
  {
   "cell_type": "code",
   "execution_count": 2,
   "metadata": {
    "id": "Su8E0uLuYkHU"
   },
   "outputs": [
    {
     "data": {
      "text/html": [
       "<div>\n",
       "<style scoped>\n",
       "    .dataframe tbody tr th:only-of-type {\n",
       "        vertical-align: middle;\n",
       "    }\n",
       "\n",
       "    .dataframe tbody tr th {\n",
       "        vertical-align: top;\n",
       "    }\n",
       "\n",
       "    .dataframe thead th {\n",
       "        text-align: right;\n",
       "    }\n",
       "</style>\n",
       "<table border=\"1\" class=\"dataframe\">\n",
       "  <thead>\n",
       "    <tr style=\"text-align: right;\">\n",
       "      <th></th>\n",
       "      <th>_id</th>\n",
       "      <th>pin</th>\n",
       "      <th>block_lot</th>\n",
       "      <th>filing_date</th>\n",
       "      <th>case_id</th>\n",
       "      <th>municipality</th>\n",
       "      <th>ward</th>\n",
       "      <th>docket_type</th>\n",
       "      <th>amount</th>\n",
       "      <th>plaintiff</th>\n",
       "      <th>last_activity</th>\n",
       "    </tr>\n",
       "  </thead>\n",
       "  <tbody>\n",
       "    <tr>\n",
       "      <th>0</th>\n",
       "      <td>1</td>\n",
       "      <td>1222S00215000000</td>\n",
       "      <td>1222S215</td>\n",
       "      <td>2009-01-02</td>\n",
       "      <td>GD-09-000087</td>\n",
       "      <td>Tarentum Boro</td>\n",
       "      <td>NaN</td>\n",
       "      <td>Sheriff Return</td>\n",
       "      <td>61821.09</td>\n",
       "      <td>Beneficial Consumer Discount Company</td>\n",
       "      <td>NaN</td>\n",
       "    </tr>\n",
       "    <tr>\n",
       "      <th>1</th>\n",
       "      <td>2</td>\n",
       "      <td>1127N00019000000</td>\n",
       "      <td>1127N19</td>\n",
       "      <td>2009-01-02</td>\n",
       "      <td>GD-09-000093</td>\n",
       "      <td>Elizabeth Township</td>\n",
       "      <td>NaN</td>\n",
       "      <td>Praecipe to Substitute</td>\n",
       "      <td>24531.41</td>\n",
       "      <td>National City Real Estate Services LLC</td>\n",
       "      <td>NaN</td>\n",
       "    </tr>\n",
       "    <tr>\n",
       "      <th>2</th>\n",
       "      <td>3</td>\n",
       "      <td>0690C00043000000</td>\n",
       "      <td>690C43</td>\n",
       "      <td>2009-01-02</td>\n",
       "      <td>GD-09-000110</td>\n",
       "      <td>N. Fayette Township</td>\n",
       "      <td>NaN</td>\n",
       "      <td>Sheriff Return</td>\n",
       "      <td>21787.83</td>\n",
       "      <td>JPMorgan Chase Bank National Association</td>\n",
       "      <td>NaN</td>\n",
       "    </tr>\n",
       "    <tr>\n",
       "      <th>3</th>\n",
       "      <td>4</td>\n",
       "      <td>1414S00194000000</td>\n",
       "      <td>1414S194</td>\n",
       "      <td>2009-01-02</td>\n",
       "      <td>GD-09-000111</td>\n",
       "      <td>Elizabeth Township</td>\n",
       "      <td>NaN</td>\n",
       "      <td>Certificate-Recorder of Deeds</td>\n",
       "      <td>63072.46</td>\n",
       "      <td>JPMorgan Chase Bank National Association</td>\n",
       "      <td>NaN</td>\n",
       "    </tr>\n",
       "    <tr>\n",
       "      <th>4</th>\n",
       "      <td>5</td>\n",
       "      <td>0131D00016000000</td>\n",
       "      <td>131D16</td>\n",
       "      <td>2009-01-02</td>\n",
       "      <td>GD-09-000112</td>\n",
       "      <td>Homestead Boro</td>\n",
       "      <td>NaN</td>\n",
       "      <td>Default Judgment</td>\n",
       "      <td>63693.10</td>\n",
       "      <td>Deutsche Bank National Trust Company</td>\n",
       "      <td>NaN</td>\n",
       "    </tr>\n",
       "  </tbody>\n",
       "</table>\n",
       "</div>"
      ],
      "text/plain": [
       "   _id               pin block_lot filing_date       case_id  \\\n",
       "0    1  1222S00215000000  1222S215  2009-01-02  GD-09-000087   \n",
       "1    2  1127N00019000000   1127N19  2009-01-02  GD-09-000093   \n",
       "2    3  0690C00043000000    690C43  2009-01-02  GD-09-000110   \n",
       "3    4  1414S00194000000  1414S194  2009-01-02  GD-09-000111   \n",
       "4    5  0131D00016000000    131D16  2009-01-02  GD-09-000112   \n",
       "\n",
       "          municipality  ward                    docket_type    amount  \\\n",
       "0        Tarentum Boro   NaN                 Sheriff Return  61821.09   \n",
       "1   Elizabeth Township   NaN         Praecipe to Substitute  24531.41   \n",
       "2  N. Fayette Township   NaN                 Sheriff Return  21787.83   \n",
       "3   Elizabeth Township   NaN  Certificate-Recorder of Deeds  63072.46   \n",
       "4       Homestead Boro   NaN               Default Judgment  63693.10   \n",
       "\n",
       "                                  plaintiff last_activity  \n",
       "0      Beneficial Consumer Discount Company           NaN  \n",
       "1    National City Real Estate Services LLC           NaN  \n",
       "2  JPMorgan Chase Bank National Association           NaN  \n",
       "3  JPMorgan Chase Bank National Association           NaN  \n",
       "4      Deutsche Bank National Trust Company           NaN  "
      ]
     },
     "execution_count": 2,
     "metadata": {},
     "output_type": "execute_result"
    }
   ],
   "source": [
    "# Loading the first dataset from a local CSV file\n",
    "mf_data = pd.read_csv('Allegheny_County_Mortgage_Foreclosure_Records.csv')\n",
    "mf_data.head()"
   ]
  },
  {
   "cell_type": "markdown",
   "metadata": {
    "id": "hoUjq1tPzz7P"
   },
   "source": [
    "#### Dataset 2\n",
    "\n",
    "**Type**: CSV File\n",
    "\n",
    "**Method**: Programmatically downloading files | The method of programmatically downloading the dataset ensures timely and efficient access to accurate and up-to-date information, facilitating robust analysis.\n",
    "\n",
    "**Dataset variables**:\n",
    "\n",
    "* **_id**: An identifier for each record in the dataset.\n",
    "* **pin**: The Property Identification Number, a unique code assigned to each property.\n",
    "* **number**: The number of tax liens associated with the property.\n",
    "* **total_amount**: The total amount of money owed in tax liens for the property.\n",
    "\n",
    "**Why this dataset**: I picked the Allegheny County Tax Lien dataset because it provides detailed information on properties with outstanding tax liens, which is critical for assessing financial distress in various municipalities within the county. The dataset includes significant variables such as pin, and total_amount, which help identify properties with the highest tax lien amounts and the extent of financial liabilities. "
   ]
  },
  {
   "cell_type": "code",
   "execution_count": 3,
   "metadata": {
    "id": "6zT0QxRyYmm7"
   },
   "outputs": [
    {
     "data": {
      "text/plain": [
       "<Response [200]>"
      ]
     },
     "execution_count": 3,
     "metadata": {},
     "output_type": "execute_result"
    }
   ],
   "source": [
    "# Loading the second dataset from a URL\n",
    "url = 'https://data.wprdc.org/datastore/dump/d1e80180-5b2e-4dab-8ec3-be621628649e'\n",
    "response = requests.get(url)\n",
    "response"
   ]
  },
  {
   "cell_type": "code",
   "execution_count": 4,
   "metadata": {},
   "outputs": [
    {
     "data": {
      "text/html": [
       "<div>\n",
       "<style scoped>\n",
       "    .dataframe tbody tr th:only-of-type {\n",
       "        vertical-align: middle;\n",
       "    }\n",
       "\n",
       "    .dataframe tbody tr th {\n",
       "        vertical-align: top;\n",
       "    }\n",
       "\n",
       "    .dataframe thead th {\n",
       "        text-align: right;\n",
       "    }\n",
       "</style>\n",
       "<table border=\"1\" class=\"dataframe\">\n",
       "  <thead>\n",
       "    <tr style=\"text-align: right;\">\n",
       "      <th></th>\n",
       "      <th>_id</th>\n",
       "      <th>pin</th>\n",
       "      <th>number</th>\n",
       "      <th>total_amount</th>\n",
       "    </tr>\n",
       "  </thead>\n",
       "  <tbody>\n",
       "    <tr>\n",
       "      <th>0</th>\n",
       "      <td>1953139</td>\n",
       "      <td>0001B00010000000</td>\n",
       "      <td>11</td>\n",
       "      <td>13585.47</td>\n",
       "    </tr>\n",
       "    <tr>\n",
       "      <th>1</th>\n",
       "      <td>1953140</td>\n",
       "      <td>0001C00058000000</td>\n",
       "      <td>2</td>\n",
       "      <td>7827.64</td>\n",
       "    </tr>\n",
       "    <tr>\n",
       "      <th>2</th>\n",
       "      <td>1953141</td>\n",
       "      <td>0001C016610W2100</td>\n",
       "      <td>1</td>\n",
       "      <td>805.33</td>\n",
       "    </tr>\n",
       "    <tr>\n",
       "      <th>3</th>\n",
       "      <td>1953142</td>\n",
       "      <td>0001C01661W13700</td>\n",
       "      <td>3</td>\n",
       "      <td>3654.30</td>\n",
       "    </tr>\n",
       "    <tr>\n",
       "      <th>4</th>\n",
       "      <td>1953143</td>\n",
       "      <td>0001C01661W21800</td>\n",
       "      <td>1</td>\n",
       "      <td>121.13</td>\n",
       "    </tr>\n",
       "  </tbody>\n",
       "</table>\n",
       "</div>"
      ],
      "text/plain": [
       "       _id               pin  number  total_amount\n",
       "0  1953139  0001B00010000000      11      13585.47\n",
       "1  1953140  0001C00058000000       2       7827.64\n",
       "2  1953141  0001C016610W2100       1        805.33\n",
       "3  1953142  0001C01661W13700       3       3654.30\n",
       "4  1953143  0001C01661W21800       1        121.13"
      ]
     },
     "execution_count": 4,
     "metadata": {},
     "output_type": "execute_result"
    }
   ],
   "source": [
    "# Save the file\n",
    "with open('Allegheny_County_Tax_Liens', mode = 'wb') as file:\n",
    "    file.write(response.content)\n",
    "    \n",
    "# Read CSV file\n",
    "tl_data = pd.read_csv('Allegheny_County_Tax_Liens')\n",
    "tl_data.head()"
   ]
  },
  {
   "cell_type": "code",
   "execution_count": 5,
   "metadata": {
    "scrolled": true
   },
   "outputs": [
    {
     "data": {
      "text/html": [
       "<div>\n",
       "<style scoped>\n",
       "    .dataframe tbody tr th:only-of-type {\n",
       "        vertical-align: middle;\n",
       "    }\n",
       "\n",
       "    .dataframe tbody tr th {\n",
       "        vertical-align: top;\n",
       "    }\n",
       "\n",
       "    .dataframe thead th {\n",
       "        text-align: right;\n",
       "    }\n",
       "</style>\n",
       "<table border=\"1\" class=\"dataframe\">\n",
       "  <thead>\n",
       "    <tr style=\"text-align: right;\">\n",
       "      <th></th>\n",
       "      <th>_id</th>\n",
       "      <th>pin</th>\n",
       "      <th>number</th>\n",
       "      <th>total_amount</th>\n",
       "    </tr>\n",
       "  </thead>\n",
       "  <tbody>\n",
       "    <tr>\n",
       "      <th>0</th>\n",
       "      <td>1953139</td>\n",
       "      <td>0001B00010000000</td>\n",
       "      <td>11</td>\n",
       "      <td>13585.47</td>\n",
       "    </tr>\n",
       "    <tr>\n",
       "      <th>1</th>\n",
       "      <td>1953140</td>\n",
       "      <td>0001C00058000000</td>\n",
       "      <td>2</td>\n",
       "      <td>7827.64</td>\n",
       "    </tr>\n",
       "    <tr>\n",
       "      <th>2</th>\n",
       "      <td>1953141</td>\n",
       "      <td>0001C016610W2100</td>\n",
       "      <td>1</td>\n",
       "      <td>805.33</td>\n",
       "    </tr>\n",
       "    <tr>\n",
       "      <th>3</th>\n",
       "      <td>1953142</td>\n",
       "      <td>0001C01661W13700</td>\n",
       "      <td>3</td>\n",
       "      <td>3654.30</td>\n",
       "    </tr>\n",
       "    <tr>\n",
       "      <th>4</th>\n",
       "      <td>1953143</td>\n",
       "      <td>0001C01661W21800</td>\n",
       "      <td>1</td>\n",
       "      <td>121.13</td>\n",
       "    </tr>\n",
       "  </tbody>\n",
       "</table>\n",
       "</div>"
      ],
      "text/plain": [
       "       _id               pin  number  total_amount\n",
       "0  1953139  0001B00010000000      11      13585.47\n",
       "1  1953140  0001C00058000000       2       7827.64\n",
       "2  1953141  0001C016610W2100       1        805.33\n",
       "3  1953142  0001C01661W13700       3       3654.30\n",
       "4  1953143  0001C01661W21800       1        121.13"
      ]
     },
     "execution_count": 5,
     "metadata": {},
     "output_type": "execute_result"
    }
   ],
   "source": [
    "# Optional: Save the raw dataset files to a local data store\n",
    "mf_data.to_csv('Allegheny_County_Mortgage_Foreclosure_Records_Raw.csv', index=False)\n",
    "tl_data.to_csv('Allegheny_County_Tax_Liens_Raw.csv', index=False)\n",
    "\n",
    "# Verify saving by reading back the stored files\n",
    "raw_mf_data = pd.read_csv('Allegheny_County_Mortgage_Foreclosure_Records_Raw.csv')\n",
    "raw_tl_data = pd.read_csv('Allegheny_County_Tax_Liens_Raw.csv')\n",
    "\n",
    "# Display the first few rows of the stored data to ensure they are saved correctly\n",
    "raw_tl_data.head()"
   ]
  },
  {
   "cell_type": "code",
   "execution_count": 6,
   "metadata": {
    "scrolled": true
   },
   "outputs": [
    {
     "data": {
      "text/html": [
       "<div>\n",
       "<style scoped>\n",
       "    .dataframe tbody tr th:only-of-type {\n",
       "        vertical-align: middle;\n",
       "    }\n",
       "\n",
       "    .dataframe tbody tr th {\n",
       "        vertical-align: top;\n",
       "    }\n",
       "\n",
       "    .dataframe thead th {\n",
       "        text-align: right;\n",
       "    }\n",
       "</style>\n",
       "<table border=\"1\" class=\"dataframe\">\n",
       "  <thead>\n",
       "    <tr style=\"text-align: right;\">\n",
       "      <th></th>\n",
       "      <th>_id</th>\n",
       "      <th>pin</th>\n",
       "      <th>block_lot</th>\n",
       "      <th>filing_date</th>\n",
       "      <th>case_id</th>\n",
       "      <th>municipality</th>\n",
       "      <th>ward</th>\n",
       "      <th>docket_type</th>\n",
       "      <th>amount</th>\n",
       "      <th>plaintiff</th>\n",
       "      <th>last_activity</th>\n",
       "    </tr>\n",
       "  </thead>\n",
       "  <tbody>\n",
       "    <tr>\n",
       "      <th>0</th>\n",
       "      <td>1</td>\n",
       "      <td>1222S00215000000</td>\n",
       "      <td>1222S215</td>\n",
       "      <td>2009-01-02</td>\n",
       "      <td>GD-09-000087</td>\n",
       "      <td>Tarentum Boro</td>\n",
       "      <td>NaN</td>\n",
       "      <td>Sheriff Return</td>\n",
       "      <td>61821.09</td>\n",
       "      <td>Beneficial Consumer Discount Company</td>\n",
       "      <td>NaN</td>\n",
       "    </tr>\n",
       "    <tr>\n",
       "      <th>1</th>\n",
       "      <td>2</td>\n",
       "      <td>1127N00019000000</td>\n",
       "      <td>1127N19</td>\n",
       "      <td>2009-01-02</td>\n",
       "      <td>GD-09-000093</td>\n",
       "      <td>Elizabeth Township</td>\n",
       "      <td>NaN</td>\n",
       "      <td>Praecipe to Substitute</td>\n",
       "      <td>24531.41</td>\n",
       "      <td>National City Real Estate Services LLC</td>\n",
       "      <td>NaN</td>\n",
       "    </tr>\n",
       "    <tr>\n",
       "      <th>2</th>\n",
       "      <td>3</td>\n",
       "      <td>0690C00043000000</td>\n",
       "      <td>690C43</td>\n",
       "      <td>2009-01-02</td>\n",
       "      <td>GD-09-000110</td>\n",
       "      <td>N. Fayette Township</td>\n",
       "      <td>NaN</td>\n",
       "      <td>Sheriff Return</td>\n",
       "      <td>21787.83</td>\n",
       "      <td>JPMorgan Chase Bank National Association</td>\n",
       "      <td>NaN</td>\n",
       "    </tr>\n",
       "    <tr>\n",
       "      <th>3</th>\n",
       "      <td>4</td>\n",
       "      <td>1414S00194000000</td>\n",
       "      <td>1414S194</td>\n",
       "      <td>2009-01-02</td>\n",
       "      <td>GD-09-000111</td>\n",
       "      <td>Elizabeth Township</td>\n",
       "      <td>NaN</td>\n",
       "      <td>Certificate-Recorder of Deeds</td>\n",
       "      <td>63072.46</td>\n",
       "      <td>JPMorgan Chase Bank National Association</td>\n",
       "      <td>NaN</td>\n",
       "    </tr>\n",
       "    <tr>\n",
       "      <th>4</th>\n",
       "      <td>5</td>\n",
       "      <td>0131D00016000000</td>\n",
       "      <td>131D16</td>\n",
       "      <td>2009-01-02</td>\n",
       "      <td>GD-09-000112</td>\n",
       "      <td>Homestead Boro</td>\n",
       "      <td>NaN</td>\n",
       "      <td>Default Judgment</td>\n",
       "      <td>63693.10</td>\n",
       "      <td>Deutsche Bank National Trust Company</td>\n",
       "      <td>NaN</td>\n",
       "    </tr>\n",
       "  </tbody>\n",
       "</table>\n",
       "</div>"
      ],
      "text/plain": [
       "   _id               pin block_lot filing_date       case_id  \\\n",
       "0    1  1222S00215000000  1222S215  2009-01-02  GD-09-000087   \n",
       "1    2  1127N00019000000   1127N19  2009-01-02  GD-09-000093   \n",
       "2    3  0690C00043000000    690C43  2009-01-02  GD-09-000110   \n",
       "3    4  1414S00194000000  1414S194  2009-01-02  GD-09-000111   \n",
       "4    5  0131D00016000000    131D16  2009-01-02  GD-09-000112   \n",
       "\n",
       "          municipality  ward                    docket_type    amount  \\\n",
       "0        Tarentum Boro   NaN                 Sheriff Return  61821.09   \n",
       "1   Elizabeth Township   NaN         Praecipe to Substitute  24531.41   \n",
       "2  N. Fayette Township   NaN                 Sheriff Return  21787.83   \n",
       "3   Elizabeth Township   NaN  Certificate-Recorder of Deeds  63072.46   \n",
       "4       Homestead Boro   NaN               Default Judgment  63693.10   \n",
       "\n",
       "                                  plaintiff last_activity  \n",
       "0      Beneficial Consumer Discount Company           NaN  \n",
       "1    National City Real Estate Services LLC           NaN  \n",
       "2  JPMorgan Chase Bank National Association           NaN  \n",
       "3  JPMorgan Chase Bank National Association           NaN  \n",
       "4      Deutsche Bank National Trust Company           NaN  "
      ]
     },
     "execution_count": 6,
     "metadata": {},
     "output_type": "execute_result"
    }
   ],
   "source": [
    "# Display the first few rows of the stored data to ensure they are saved correctly\n",
    "raw_mf_data.head()"
   ]
  },
  {
   "cell_type": "markdown",
   "metadata": {
    "id": "QwSWIVmotLgV"
   },
   "source": [
    "## 2. Assess data\n",
    "\n",
    "Assess the data according to data quality and tidiness metrics using the report below."
   ]
  },
  {
   "cell_type": "markdown",
   "metadata": {
    "id": "adaK2iPNzVu4"
   },
   "source": [
    "### Quality Issue 1 - Mortgage Foreclosure Data\n",
    "\n",
    "The dataset has missing values, zero values in the 'amount' column, and duplicated records"
   ]
  },
  {
   "cell_type": "code",
   "execution_count": 7,
   "metadata": {
    "id": "SpW59kh-zl8d"
   },
   "outputs": [
    {
     "data": {
      "text/html": [
       "<div>\n",
       "<style scoped>\n",
       "    .dataframe tbody tr th:only-of-type {\n",
       "        vertical-align: middle;\n",
       "    }\n",
       "\n",
       "    .dataframe tbody tr th {\n",
       "        vertical-align: top;\n",
       "    }\n",
       "\n",
       "    .dataframe thead th {\n",
       "        text-align: right;\n",
       "    }\n",
       "</style>\n",
       "<table border=\"1\" class=\"dataframe\">\n",
       "  <thead>\n",
       "    <tr style=\"text-align: right;\">\n",
       "      <th></th>\n",
       "      <th>_id</th>\n",
       "      <th>pin</th>\n",
       "      <th>block_lot</th>\n",
       "      <th>filing_date</th>\n",
       "      <th>case_id</th>\n",
       "      <th>municipality</th>\n",
       "      <th>ward</th>\n",
       "      <th>docket_type</th>\n",
       "      <th>amount</th>\n",
       "      <th>plaintiff</th>\n",
       "      <th>last_activity</th>\n",
       "    </tr>\n",
       "  </thead>\n",
       "  <tbody>\n",
       "    <tr>\n",
       "      <th>14017</th>\n",
       "      <td>14018</td>\n",
       "      <td>0746K00005000000</td>\n",
       "      <td>746K5</td>\n",
       "      <td>2012-12-17</td>\n",
       "      <td>MG-12-002037</td>\n",
       "      <td>Pitcairn Boro</td>\n",
       "      <td>NaN</td>\n",
       "      <td>Settled and Discontinued</td>\n",
       "      <td>9030.74</td>\n",
       "      <td>Midfirst Bank</td>\n",
       "      <td>NaN</td>\n",
       "    </tr>\n",
       "    <tr>\n",
       "      <th>30040</th>\n",
       "      <td>30041</td>\n",
       "      <td>0061E00182000000</td>\n",
       "      <td>0061E00182 000000</td>\n",
       "      <td>2020-01-16</td>\n",
       "      <td>GD-20-000871</td>\n",
       "      <td>Pittsburgh</td>\n",
       "      <td>19.0</td>\n",
       "      <td>Settled and Discontinued</td>\n",
       "      <td>0.00</td>\n",
       "      <td>PNC Bank National Association</td>\n",
       "      <td>NaN</td>\n",
       "    </tr>\n",
       "    <tr>\n",
       "      <th>19599</th>\n",
       "      <td>19600</td>\n",
       "      <td>0667R00073000000</td>\n",
       "      <td>667R73</td>\n",
       "      <td>2015-01-16</td>\n",
       "      <td>GD-15-000829</td>\n",
       "      <td>Bethel Park Boro</td>\n",
       "      <td>NaN</td>\n",
       "      <td>Settled and Discontinued</td>\n",
       "      <td>71830.93</td>\n",
       "      <td>Northwest Savings Bank</td>\n",
       "      <td>NaN</td>\n",
       "    </tr>\n",
       "    <tr>\n",
       "      <th>31671</th>\n",
       "      <td>31672</td>\n",
       "      <td>0096C00092000000</td>\n",
       "      <td>96C92</td>\n",
       "      <td>2022-06-22</td>\n",
       "      <td>MG-22-000466</td>\n",
       "      <td>Pittsburgh</td>\n",
       "      <td>32.0</td>\n",
       "      <td>Confidential Information Form</td>\n",
       "      <td>71174.93</td>\n",
       "      <td>Midfirst Bank</td>\n",
       "      <td>NaN</td>\n",
       "    </tr>\n",
       "    <tr>\n",
       "      <th>26899</th>\n",
       "      <td>26900</td>\n",
       "      <td>0235N00078000000</td>\n",
       "      <td>235N78</td>\n",
       "      <td>2018-04-17</td>\n",
       "      <td>GD-18-005026</td>\n",
       "      <td>Braddock Boro</td>\n",
       "      <td>NaN</td>\n",
       "      <td>Complaint</td>\n",
       "      <td>17500.55</td>\n",
       "      <td>Bank of New York Mellon</td>\n",
       "      <td>NaN</td>\n",
       "    </tr>\n",
       "  </tbody>\n",
       "</table>\n",
       "</div>"
      ],
      "text/plain": [
       "         _id               pin          block_lot filing_date       case_id  \\\n",
       "14017  14018  0746K00005000000              746K5  2012-12-17  MG-12-002037   \n",
       "30040  30041  0061E00182000000  0061E00182 000000  2020-01-16  GD-20-000871   \n",
       "19599  19600  0667R00073000000             667R73  2015-01-16  GD-15-000829   \n",
       "31671  31672  0096C00092000000              96C92  2022-06-22  MG-22-000466   \n",
       "26899  26900  0235N00078000000             235N78  2018-04-17  GD-18-005026   \n",
       "\n",
       "           municipality  ward                    docket_type    amount  \\\n",
       "14017     Pitcairn Boro   NaN       Settled and Discontinued   9030.74   \n",
       "30040        Pittsburgh  19.0       Settled and Discontinued      0.00   \n",
       "19599  Bethel Park Boro   NaN       Settled and Discontinued  71830.93   \n",
       "31671        Pittsburgh  32.0  Confidential Information Form  71174.93   \n",
       "26899     Braddock Boro   NaN                      Complaint  17500.55   \n",
       "\n",
       "                           plaintiff last_activity  \n",
       "14017                  Midfirst Bank           NaN  \n",
       "30040  PNC Bank National Association           NaN  \n",
       "19599         Northwest Savings Bank           NaN  \n",
       "31671                  Midfirst Bank           NaN  \n",
       "26899        Bank of New York Mellon           NaN  "
      ]
     },
     "execution_count": 7,
     "metadata": {},
     "output_type": "execute_result"
    }
   ],
   "source": [
    "#Inspecting the dataframe visually\n",
    "mf_data.sample(5, random_state=11)"
   ]
  },
  {
   "cell_type": "code",
   "execution_count": 8,
   "metadata": {
    "id": "-qfcocStzsKg"
   },
   "outputs": [
    {
     "name": "stdout",
     "output_type": "stream",
     "text": [
      "<class 'pandas.core.frame.DataFrame'>\n",
      "RangeIndex: 37020 entries, 0 to 37019\n",
      "Data columns (total 11 columns):\n",
      " #   Column         Non-Null Count  Dtype  \n",
      "---  ------         --------------  -----  \n",
      " 0   _id            37020 non-null  int64  \n",
      " 1   pin            36775 non-null  object \n",
      " 2   block_lot      36971 non-null  object \n",
      " 3   filing_date    37020 non-null  object \n",
      " 4   case_id        37020 non-null  object \n",
      " 5   municipality   37020 non-null  object \n",
      " 6   ward           9920 non-null   float64\n",
      " 7   docket_type    31859 non-null  object \n",
      " 8   amount         36374 non-null  float64\n",
      " 9   plaintiff      37020 non-null  object \n",
      " 10  last_activity  5161 non-null   object \n",
      "dtypes: float64(2), int64(1), object(8)\n",
      "memory usage: 3.1+ MB\n"
     ]
    }
   ],
   "source": [
    "# Inspecting the dataframe programmatically\n",
    "mf_data.info()"
   ]
  },
  {
   "cell_type": "code",
   "execution_count": 9,
   "metadata": {},
   "outputs": [
    {
     "data": {
      "text/plain": [
       "5011"
      ]
     },
     "execution_count": 9,
     "metadata": {},
     "output_type": "execute_result"
    }
   ],
   "source": [
    "# Count the number of rows where the 'amount' column has a value of 0\n",
    "zero_amount = (mf_data['amount'] == 0).sum().item()\n",
    "zero_amount"
   ]
  },
  {
   "cell_type": "code",
   "execution_count": 10,
   "metadata": {},
   "outputs": [
    {
     "data": {
      "text/plain": [
       "3283"
      ]
     },
     "execution_count": 10,
     "metadata": {},
     "output_type": "execute_result"
    }
   ],
   "source": [
    "# Calculate the number of duplicate records based on 'pin' and 'amount' columns\n",
    "mf_duplicated_columns = ['pin', 'amount']\n",
    "mf_data.duplicated(subset=mf_duplicated_columns).sum().item()"
   ]
  },
  {
   "cell_type": "markdown",
   "metadata": {},
   "source": [
    "* **Inspecting the dataframe visually** <br>\n",
    "1. Column 'ward' and 'last_activity' have missing values.\n",
    "2. Column 'amount' has value = 0. This is the record for outstanding loan amount for foreclosure property. Thus, the value should be great than 0\n",
    "\n",
    "* **Inspecting the dataframe programmatically** <br>\n",
    "1. Column 'pin', 'block_lot', 'ward', 'docket_type', 'amount' and 'last_activity' have missing values \n",
    "<br> \n",
    "2. There are 5,011 property records with a value of 0 in the 'amount' column, which represents the outstanding loan amount for foreclosure properties. This value should be greater than 0.<br> \n",
    "3. There are 3,283 property records that have duplicated PIN numbers and outstanding loan amounts. This means some properties with mortage forlcosure have been recorded more than once.<br> "
   ]
  },
  {
   "cell_type": "markdown",
   "metadata": {
    "id": "8Be77N4I1AmE"
   },
   "source": [
    "### Quality Issue 2 - Tax Lien Data\n",
    "\n",
    "The 'total_amount' column contains 10 rows with a value of 0, which is a typo since tax lien amounts should exceed 0."
   ]
  },
  {
   "cell_type": "code",
   "execution_count": 11,
   "metadata": {
    "id": "iMhHyiyLM2I3"
   },
   "outputs": [
    {
     "data": {
      "text/html": [
       "<div>\n",
       "<style scoped>\n",
       "    .dataframe tbody tr th:only-of-type {\n",
       "        vertical-align: middle;\n",
       "    }\n",
       "\n",
       "    .dataframe tbody tr th {\n",
       "        vertical-align: top;\n",
       "    }\n",
       "\n",
       "    .dataframe thead th {\n",
       "        text-align: right;\n",
       "    }\n",
       "</style>\n",
       "<table border=\"1\" class=\"dataframe\">\n",
       "  <thead>\n",
       "    <tr style=\"text-align: right;\">\n",
       "      <th></th>\n",
       "      <th>_id</th>\n",
       "      <th>pin</th>\n",
       "      <th>number</th>\n",
       "      <th>total_amount</th>\n",
       "    </tr>\n",
       "  </thead>\n",
       "  <tbody>\n",
       "    <tr>\n",
       "      <th>74384</th>\n",
       "      <td>2027523</td>\n",
       "      <td>8000T00167000000</td>\n",
       "      <td>26</td>\n",
       "      <td>1735.40</td>\n",
       "    </tr>\n",
       "    <tr>\n",
       "      <th>10304</th>\n",
       "      <td>1963443</td>\n",
       "      <td>0046B00114000000</td>\n",
       "      <td>25</td>\n",
       "      <td>16448.63</td>\n",
       "    </tr>\n",
       "    <tr>\n",
       "      <th>41241</th>\n",
       "      <td>1994380</td>\n",
       "      <td>0301J00151000000</td>\n",
       "      <td>54</td>\n",
       "      <td>7632.34</td>\n",
       "    </tr>\n",
       "    <tr>\n",
       "      <th>69152</th>\n",
       "      <td>2022291</td>\n",
       "      <td>1080S00084000000</td>\n",
       "      <td>1</td>\n",
       "      <td>0.00</td>\n",
       "    </tr>\n",
       "    <tr>\n",
       "      <th>11108</th>\n",
       "      <td>1964247</td>\n",
       "      <td>0047C00244000000</td>\n",
       "      <td>20</td>\n",
       "      <td>3575.37</td>\n",
       "    </tr>\n",
       "    <tr>\n",
       "      <th>6837</th>\n",
       "      <td>1959976</td>\n",
       "      <td>0026N00045000000</td>\n",
       "      <td>8</td>\n",
       "      <td>2107.77</td>\n",
       "    </tr>\n",
       "    <tr>\n",
       "      <th>65197</th>\n",
       "      <td>2018336</td>\n",
       "      <td>0815N00086000000</td>\n",
       "      <td>45</td>\n",
       "      <td>13745.22</td>\n",
       "    </tr>\n",
       "    <tr>\n",
       "      <th>22561</th>\n",
       "      <td>1975700</td>\n",
       "      <td>0125F00340000000</td>\n",
       "      <td>15</td>\n",
       "      <td>2046.30</td>\n",
       "    </tr>\n",
       "    <tr>\n",
       "      <th>53871</th>\n",
       "      <td>2007010</td>\n",
       "      <td>0455F00091000000</td>\n",
       "      <td>110</td>\n",
       "      <td>1859.81</td>\n",
       "    </tr>\n",
       "    <tr>\n",
       "      <th>43581</th>\n",
       "      <td>1996720</td>\n",
       "      <td>0307P00051000000</td>\n",
       "      <td>7</td>\n",
       "      <td>2575.57</td>\n",
       "    </tr>\n",
       "  </tbody>\n",
       "</table>\n",
       "</div>"
      ],
      "text/plain": [
       "           _id               pin  number  total_amount\n",
       "74384  2027523  8000T00167000000      26       1735.40\n",
       "10304  1963443  0046B00114000000      25      16448.63\n",
       "41241  1994380  0301J00151000000      54       7632.34\n",
       "69152  2022291  1080S00084000000       1          0.00\n",
       "11108  1964247  0047C00244000000      20       3575.37\n",
       "6837   1959976  0026N00045000000       8       2107.77\n",
       "65197  2018336  0815N00086000000      45      13745.22\n",
       "22561  1975700  0125F00340000000      15       2046.30\n",
       "53871  2007010  0455F00091000000     110       1859.81\n",
       "43581  1996720  0307P00051000000       7       2575.57"
      ]
     },
     "execution_count": 11,
     "metadata": {},
     "output_type": "execute_result"
    }
   ],
   "source": [
    "# Inspecting the dataframe visually\n",
    "tl_data.sample(10, random_state=83)"
   ]
  },
  {
   "cell_type": "code",
   "execution_count": 12,
   "metadata": {
    "id": "bnviRCUI-bb7"
   },
   "outputs": [
    {
     "name": "stdout",
     "output_type": "stream",
     "text": [
      "<class 'pandas.core.frame.DataFrame'>\n",
      "RangeIndex: 78755 entries, 0 to 78754\n",
      "Data columns (total 4 columns):\n",
      " #   Column        Non-Null Count  Dtype  \n",
      "---  ------        --------------  -----  \n",
      " 0   _id           78755 non-null  int64  \n",
      " 1   pin           78755 non-null  object \n",
      " 2   number        78755 non-null  int64  \n",
      " 3   total_amount  78755 non-null  float64\n",
      "dtypes: float64(1), int64(2), object(1)\n",
      "memory usage: 2.4+ MB\n"
     ]
    }
   ],
   "source": [
    "# Inspecting the dataframe programmatically\n",
    "tl_data.info()"
   ]
  },
  {
   "cell_type": "code",
   "execution_count": 13,
   "metadata": {},
   "outputs": [
    {
     "data": {
      "text/plain": [
       "10"
      ]
     },
     "execution_count": 13,
     "metadata": {},
     "output_type": "execute_result"
    }
   ],
   "source": [
    "# Counting the number of rows with total_amount equal to 0\n",
    "total_amount_zero = (tl_data['total_amount'] == 0).sum().item()\n",
    "total_amount_zero"
   ]
  },
  {
   "cell_type": "code",
   "execution_count": 14,
   "metadata": {},
   "outputs": [
    {
     "data": {
      "text/plain": [
       "0"
      ]
     },
     "execution_count": 14,
     "metadata": {},
     "output_type": "execute_result"
    }
   ],
   "source": [
    "# Calculate the number of duplicate records based on 'pin' and 'total_amount' columns\n",
    "tl_duplicated_columns = ['pin', 'total_amount']\n",
    "tl_data.duplicated(subset=tl_duplicated_columns).sum().item()"
   ]
  },
  {
   "cell_type": "markdown",
   "metadata": {},
   "source": [
    "* **Inspecting the dataframe visually** <br><br>\n",
    "There is a value of 0 in the 'total_amount' column. This is a typo because the tax lien amount should be greater than 0 <br><br>\n",
    "\n",
    "* **Inspecting the dataframe programmatically** <br><br>\n",
    "Although there are no duplicate values based on the 'pin' and 'total_amount' columns, there are 10 rows with a total_amount equal to 0. This is a typo because the tax lien amount should be greater than 0. <br> "
   ]
  },
  {
   "cell_type": "markdown",
   "metadata": {
    "id": "lXhGiYyiwwKN"
   },
   "source": [
    "### Tidiness Issue 1 - Mortgage Foreclosure Data\n",
    "\n",
    "The 'filing_date' column has the wrong data type. To facilitate data analysis, it needs to be converted to datetime during the cleaning stage."
   ]
  },
  {
   "cell_type": "code",
   "execution_count": 15,
   "metadata": {
    "id": "fleC5rORI0Xl"
   },
   "outputs": [
    {
     "data": {
      "text/html": [
       "<div>\n",
       "<style scoped>\n",
       "    .dataframe tbody tr th:only-of-type {\n",
       "        vertical-align: middle;\n",
       "    }\n",
       "\n",
       "    .dataframe tbody tr th {\n",
       "        vertical-align: top;\n",
       "    }\n",
       "\n",
       "    .dataframe thead th {\n",
       "        text-align: right;\n",
       "    }\n",
       "</style>\n",
       "<table border=\"1\" class=\"dataframe\">\n",
       "  <thead>\n",
       "    <tr style=\"text-align: right;\">\n",
       "      <th></th>\n",
       "      <th>_id</th>\n",
       "      <th>pin</th>\n",
       "      <th>block_lot</th>\n",
       "      <th>filing_date</th>\n",
       "      <th>case_id</th>\n",
       "      <th>municipality</th>\n",
       "      <th>ward</th>\n",
       "      <th>docket_type</th>\n",
       "      <th>amount</th>\n",
       "      <th>plaintiff</th>\n",
       "      <th>last_activity</th>\n",
       "    </tr>\n",
       "  </thead>\n",
       "  <tbody>\n",
       "    <tr>\n",
       "      <th>14017</th>\n",
       "      <td>14018</td>\n",
       "      <td>0746K00005000000</td>\n",
       "      <td>746K5</td>\n",
       "      <td>2012-12-17</td>\n",
       "      <td>MG-12-002037</td>\n",
       "      <td>Pitcairn Boro</td>\n",
       "      <td>NaN</td>\n",
       "      <td>Settled and Discontinued</td>\n",
       "      <td>9030.74</td>\n",
       "      <td>Midfirst Bank</td>\n",
       "      <td>NaN</td>\n",
       "    </tr>\n",
       "    <tr>\n",
       "      <th>30040</th>\n",
       "      <td>30041</td>\n",
       "      <td>0061E00182000000</td>\n",
       "      <td>0061E00182 000000</td>\n",
       "      <td>2020-01-16</td>\n",
       "      <td>GD-20-000871</td>\n",
       "      <td>Pittsburgh</td>\n",
       "      <td>19.0</td>\n",
       "      <td>Settled and Discontinued</td>\n",
       "      <td>0.00</td>\n",
       "      <td>PNC Bank National Association</td>\n",
       "      <td>NaN</td>\n",
       "    </tr>\n",
       "    <tr>\n",
       "      <th>19599</th>\n",
       "      <td>19600</td>\n",
       "      <td>0667R00073000000</td>\n",
       "      <td>667R73</td>\n",
       "      <td>2015-01-16</td>\n",
       "      <td>GD-15-000829</td>\n",
       "      <td>Bethel Park Boro</td>\n",
       "      <td>NaN</td>\n",
       "      <td>Settled and Discontinued</td>\n",
       "      <td>71830.93</td>\n",
       "      <td>Northwest Savings Bank</td>\n",
       "      <td>NaN</td>\n",
       "    </tr>\n",
       "    <tr>\n",
       "      <th>31671</th>\n",
       "      <td>31672</td>\n",
       "      <td>0096C00092000000</td>\n",
       "      <td>96C92</td>\n",
       "      <td>2022-06-22</td>\n",
       "      <td>MG-22-000466</td>\n",
       "      <td>Pittsburgh</td>\n",
       "      <td>32.0</td>\n",
       "      <td>Confidential Information Form</td>\n",
       "      <td>71174.93</td>\n",
       "      <td>Midfirst Bank</td>\n",
       "      <td>NaN</td>\n",
       "    </tr>\n",
       "    <tr>\n",
       "      <th>26899</th>\n",
       "      <td>26900</td>\n",
       "      <td>0235N00078000000</td>\n",
       "      <td>235N78</td>\n",
       "      <td>2018-04-17</td>\n",
       "      <td>GD-18-005026</td>\n",
       "      <td>Braddock Boro</td>\n",
       "      <td>NaN</td>\n",
       "      <td>Complaint</td>\n",
       "      <td>17500.55</td>\n",
       "      <td>Bank of New York Mellon</td>\n",
       "      <td>NaN</td>\n",
       "    </tr>\n",
       "  </tbody>\n",
       "</table>\n",
       "</div>"
      ],
      "text/plain": [
       "         _id               pin          block_lot filing_date       case_id  \\\n",
       "14017  14018  0746K00005000000              746K5  2012-12-17  MG-12-002037   \n",
       "30040  30041  0061E00182000000  0061E00182 000000  2020-01-16  GD-20-000871   \n",
       "19599  19600  0667R00073000000             667R73  2015-01-16  GD-15-000829   \n",
       "31671  31672  0096C00092000000              96C92  2022-06-22  MG-22-000466   \n",
       "26899  26900  0235N00078000000             235N78  2018-04-17  GD-18-005026   \n",
       "\n",
       "           municipality  ward                    docket_type    amount  \\\n",
       "14017     Pitcairn Boro   NaN       Settled and Discontinued   9030.74   \n",
       "30040        Pittsburgh  19.0       Settled and Discontinued      0.00   \n",
       "19599  Bethel Park Boro   NaN       Settled and Discontinued  71830.93   \n",
       "31671        Pittsburgh  32.0  Confidential Information Form  71174.93   \n",
       "26899     Braddock Boro   NaN                      Complaint  17500.55   \n",
       "\n",
       "                           plaintiff last_activity  \n",
       "14017                  Midfirst Bank           NaN  \n",
       "30040  PNC Bank National Association           NaN  \n",
       "19599         Northwest Savings Bank           NaN  \n",
       "31671                  Midfirst Bank           NaN  \n",
       "26899        Bank of New York Mellon           NaN  "
      ]
     },
     "execution_count": 15,
     "metadata": {},
     "output_type": "execute_result"
    }
   ],
   "source": [
    "# Inspecting the dataframe visually\n",
    "mf_data.sample(5, random_state=11)"
   ]
  },
  {
   "cell_type": "code",
   "execution_count": 16,
   "metadata": {
    "id": "BTuQw7Rbsio4"
   },
   "outputs": [
    {
     "name": "stdout",
     "output_type": "stream",
     "text": [
      "<class 'pandas.core.frame.DataFrame'>\n",
      "RangeIndex: 37020 entries, 0 to 37019\n",
      "Data columns (total 11 columns):\n",
      " #   Column         Non-Null Count  Dtype  \n",
      "---  ------         --------------  -----  \n",
      " 0   _id            37020 non-null  int64  \n",
      " 1   pin            36775 non-null  object \n",
      " 2   block_lot      36971 non-null  object \n",
      " 3   filing_date    37020 non-null  object \n",
      " 4   case_id        37020 non-null  object \n",
      " 5   municipality   37020 non-null  object \n",
      " 6   ward           9920 non-null   float64\n",
      " 7   docket_type    31859 non-null  object \n",
      " 8   amount         36374 non-null  float64\n",
      " 9   plaintiff      37020 non-null  object \n",
      " 10  last_activity  5161 non-null   object \n",
      "dtypes: float64(2), int64(1), object(8)\n",
      "memory usage: 3.1+ MB\n"
     ]
    }
   ],
   "source": [
    "# Inspecting the dataframe programmatically\n",
    "mf_data.info()"
   ]
  },
  {
   "cell_type": "markdown",
   "metadata": {},
   "source": [
    "**Inspecting the dataframe visually** <br><br>\n",
    "The 'filing_date' column is formatted as year-month-date. Although it appears correct, it is likely that the data type is set to string instead of datetime. Therefore, we need to inspect the dataframe programmatically to verify and correct the data type of 'filing_date'. <br><br>\n",
    "\n",
    "**Inspecting the dataframe programmatically** <br><br>\n",
    "From the code above, we can clearly see that the 'filing_date' column is categorized as an object rather than a datetime. This needs to be revised in the data cleaning stage. <br> "
   ]
  },
  {
   "cell_type": "markdown",
   "metadata": {
    "id": "4ffMoRGSwzYj"
   },
   "source": [
    "### Tidiness Issue 2 - Mortgage Foreclosure Data\n",
    "\n",
    "The 'case_id' column contains two variables, 'foreclosure_type' and 'case_id', which violates data tidiness guidelines."
   ]
  },
  {
   "cell_type": "code",
   "execution_count": 17,
   "metadata": {
    "id": "XUpeoqokw5Qt"
   },
   "outputs": [
    {
     "data": {
      "text/html": [
       "<div>\n",
       "<style scoped>\n",
       "    .dataframe tbody tr th:only-of-type {\n",
       "        vertical-align: middle;\n",
       "    }\n",
       "\n",
       "    .dataframe tbody tr th {\n",
       "        vertical-align: top;\n",
       "    }\n",
       "\n",
       "    .dataframe thead th {\n",
       "        text-align: right;\n",
       "    }\n",
       "</style>\n",
       "<table border=\"1\" class=\"dataframe\">\n",
       "  <thead>\n",
       "    <tr style=\"text-align: right;\">\n",
       "      <th></th>\n",
       "      <th>_id</th>\n",
       "      <th>pin</th>\n",
       "      <th>block_lot</th>\n",
       "      <th>filing_date</th>\n",
       "      <th>case_id</th>\n",
       "      <th>municipality</th>\n",
       "      <th>ward</th>\n",
       "      <th>docket_type</th>\n",
       "      <th>amount</th>\n",
       "      <th>plaintiff</th>\n",
       "      <th>last_activity</th>\n",
       "    </tr>\n",
       "  </thead>\n",
       "  <tbody>\n",
       "    <tr>\n",
       "      <th>14017</th>\n",
       "      <td>14018</td>\n",
       "      <td>0746K00005000000</td>\n",
       "      <td>746K5</td>\n",
       "      <td>2012-12-17</td>\n",
       "      <td>MG-12-002037</td>\n",
       "      <td>Pitcairn Boro</td>\n",
       "      <td>NaN</td>\n",
       "      <td>Settled and Discontinued</td>\n",
       "      <td>9030.74</td>\n",
       "      <td>Midfirst Bank</td>\n",
       "      <td>NaN</td>\n",
       "    </tr>\n",
       "    <tr>\n",
       "      <th>30040</th>\n",
       "      <td>30041</td>\n",
       "      <td>0061E00182000000</td>\n",
       "      <td>0061E00182 000000</td>\n",
       "      <td>2020-01-16</td>\n",
       "      <td>GD-20-000871</td>\n",
       "      <td>Pittsburgh</td>\n",
       "      <td>19.0</td>\n",
       "      <td>Settled and Discontinued</td>\n",
       "      <td>0.00</td>\n",
       "      <td>PNC Bank National Association</td>\n",
       "      <td>NaN</td>\n",
       "    </tr>\n",
       "    <tr>\n",
       "      <th>19599</th>\n",
       "      <td>19600</td>\n",
       "      <td>0667R00073000000</td>\n",
       "      <td>667R73</td>\n",
       "      <td>2015-01-16</td>\n",
       "      <td>GD-15-000829</td>\n",
       "      <td>Bethel Park Boro</td>\n",
       "      <td>NaN</td>\n",
       "      <td>Settled and Discontinued</td>\n",
       "      <td>71830.93</td>\n",
       "      <td>Northwest Savings Bank</td>\n",
       "      <td>NaN</td>\n",
       "    </tr>\n",
       "    <tr>\n",
       "      <th>31671</th>\n",
       "      <td>31672</td>\n",
       "      <td>0096C00092000000</td>\n",
       "      <td>96C92</td>\n",
       "      <td>2022-06-22</td>\n",
       "      <td>MG-22-000466</td>\n",
       "      <td>Pittsburgh</td>\n",
       "      <td>32.0</td>\n",
       "      <td>Confidential Information Form</td>\n",
       "      <td>71174.93</td>\n",
       "      <td>Midfirst Bank</td>\n",
       "      <td>NaN</td>\n",
       "    </tr>\n",
       "    <tr>\n",
       "      <th>26899</th>\n",
       "      <td>26900</td>\n",
       "      <td>0235N00078000000</td>\n",
       "      <td>235N78</td>\n",
       "      <td>2018-04-17</td>\n",
       "      <td>GD-18-005026</td>\n",
       "      <td>Braddock Boro</td>\n",
       "      <td>NaN</td>\n",
       "      <td>Complaint</td>\n",
       "      <td>17500.55</td>\n",
       "      <td>Bank of New York Mellon</td>\n",
       "      <td>NaN</td>\n",
       "    </tr>\n",
       "  </tbody>\n",
       "</table>\n",
       "</div>"
      ],
      "text/plain": [
       "         _id               pin          block_lot filing_date       case_id  \\\n",
       "14017  14018  0746K00005000000              746K5  2012-12-17  MG-12-002037   \n",
       "30040  30041  0061E00182000000  0061E00182 000000  2020-01-16  GD-20-000871   \n",
       "19599  19600  0667R00073000000             667R73  2015-01-16  GD-15-000829   \n",
       "31671  31672  0096C00092000000              96C92  2022-06-22  MG-22-000466   \n",
       "26899  26900  0235N00078000000             235N78  2018-04-17  GD-18-005026   \n",
       "\n",
       "           municipality  ward                    docket_type    amount  \\\n",
       "14017     Pitcairn Boro   NaN       Settled and Discontinued   9030.74   \n",
       "30040        Pittsburgh  19.0       Settled and Discontinued      0.00   \n",
       "19599  Bethel Park Boro   NaN       Settled and Discontinued  71830.93   \n",
       "31671        Pittsburgh  32.0  Confidential Information Form  71174.93   \n",
       "26899     Braddock Boro   NaN                      Complaint  17500.55   \n",
       "\n",
       "                           plaintiff last_activity  \n",
       "14017                  Midfirst Bank           NaN  \n",
       "30040  PNC Bank National Association           NaN  \n",
       "19599         Northwest Savings Bank           NaN  \n",
       "31671                  Midfirst Bank           NaN  \n",
       "26899        Bank of New York Mellon           NaN  "
      ]
     },
     "execution_count": 17,
     "metadata": {},
     "output_type": "execute_result"
    }
   ],
   "source": [
    "# Inspecting the dataframe visually\n",
    "mf_data.sample(5, random_state=11)"
   ]
  },
  {
   "cell_type": "code",
   "execution_count": 18,
   "metadata": {
    "id": "c8JK4DoXxtFA"
   },
   "outputs": [
    {
     "name": "stdout",
     "output_type": "stream",
     "text": [
      "<class 'pandas.core.frame.DataFrame'>\n",
      "RangeIndex: 37020 entries, 0 to 37019\n",
      "Data columns (total 11 columns):\n",
      " #   Column         Non-Null Count  Dtype  \n",
      "---  ------         --------------  -----  \n",
      " 0   _id            37020 non-null  int64  \n",
      " 1   pin            36775 non-null  object \n",
      " 2   block_lot      36971 non-null  object \n",
      " 3   filing_date    37020 non-null  object \n",
      " 4   case_id        37020 non-null  object \n",
      " 5   municipality   37020 non-null  object \n",
      " 6   ward           9920 non-null   float64\n",
      " 7   docket_type    31859 non-null  object \n",
      " 8   amount         36374 non-null  float64\n",
      " 9   plaintiff      37020 non-null  object \n",
      " 10  last_activity  5161 non-null   object \n",
      "dtypes: float64(2), int64(1), object(8)\n",
      "memory usage: 3.1+ MB\n"
     ]
    }
   ],
   "source": [
    "# Inspecting the dataframe programmatically\n",
    "mf_data.info()"
   ]
  },
  {
   "cell_type": "code",
   "execution_count": 19,
   "metadata": {},
   "outputs": [
    {
     "name": "stdout",
     "output_type": "stream",
     "text": [
      "Count of case_ids starting with 'MG': 27453\n",
      "Count of case_ids starting with 'GD': 9567\n"
     ]
    }
   ],
   "source": [
    "# Inspecting the dataframe programmatically\n",
    "\n",
    "# Counting case_ids that start with 'MG'\n",
    "mg_count = mf_data[mf_data['case_id'].str.startswith('MG')]['case_id'].count()\n",
    "\n",
    "# Counting case_ids that start with 'GD'\n",
    "gd_count = mf_data[mf_data['case_id'].str.startswith('GD')]['case_id'].count()\n",
    "\n",
    "print(f\"Count of case_ids starting with 'MG': {mg_count}\")\n",
    "print(f\"Count of case_ids starting with 'GD': {gd_count}\")"
   ]
  },
  {
   "cell_type": "markdown",
   "metadata": {},
   "source": [
    "**Foreclosure Type Classification**:\n",
    "1. MG (Mortgage General): Narrow focus on mortgage-related foreclosures.<br>\n",
    "2. GD (General Docket): Broad scope, encompassing many types of civil disputes.<br><br>\n",
    "\n",
    "\n",
    "**Inspecting the dataframe visually** <br><br>\n",
    "From the column 'case_id', we can see that some cells start with 'MG' while others start with 'GD'. This violates the data tidiness guideline that states \"Each variable forms a column.\" Since there are two variables present, we need to split the column 'case_id' into two separate columns. One column should be named 'foreclosure_type' and the other should be named 'case_id'. <br><br>\n",
    "\n",
    "**Inspecting the dataframe programmatically** <br><br>\n",
    "From the data above, we can clearly see that there are 27,453 rows where the 'case_id' starts with \"MG\" and 9,567 rows where the 'case_id' starts with \"GD\". This results in a total of 37,020 rows in the table, which is the sum of 27,453 and 9,567. This indicates that there are no 'case_id' entries that start with anything other than \"MG\" or \"GD\". So, we can go ahead and split column 'case_id' into two separate columns. <br> "
   ]
  },
  {
   "cell_type": "markdown",
   "metadata": {
    "id": "D6gmLnBttpCh"
   },
   "source": [
    "## 3. Clean data\n",
    "\n",
    "\n",
    "\n",
    "\n",
    "<bar>\n",
    "    \n",
    "    \n",
    "\n",
    "\n"
   ]
  },
  {
   "cell_type": "code",
   "execution_count": 20,
   "metadata": {},
   "outputs": [],
   "source": [
    "# Make copies of the datasets to ensure the raw dataframes are not impacted\n",
    "mf_data_copy = mf_data.copy()\n",
    "tl_data_copy = tl_data.copy()"
   ]
  },
  {
   "cell_type": "markdown",
   "metadata": {
    "id": "FmFhN52Yyn3l"
   },
   "source": [
    "### Quality Issue 1 - Mortgage Foreclosure Data\n",
    "\n",
    "The dataset has missing values, zero values in the 'amount' column, and duplicated records"
   ]
  },
  {
   "cell_type": "code",
   "execution_count": 21,
   "metadata": {
    "id": "9UejDWrNMW4a"
   },
   "outputs": [],
   "source": [
    "# Drop the 'ward' and 'last_activity' columns from mf_data_copy\n",
    "mf_data_copy = mf_data_copy.drop(['ward', 'last_activity'], axis=1)"
   ]
  },
  {
   "cell_type": "code",
   "execution_count": 22,
   "metadata": {
    "id": "oUBee-LPytkv"
   },
   "outputs": [],
   "source": [
    "# Replacing Zero Values with NaN in 'amount' Column\n",
    "mf_data_copy['amount'] = mf_data_copy['amount'].replace({0: np.nan})"
   ]
  },
  {
   "cell_type": "code",
   "execution_count": 23,
   "metadata": {},
   "outputs": [],
   "source": [
    "# Dropping rows with missing values\n",
    "clean_mf_data_copy = mf_data_copy.dropna()"
   ]
  },
  {
   "cell_type": "code",
   "execution_count": 24,
   "metadata": {},
   "outputs": [],
   "source": [
    "# Removes all duplicate rows based on the 'pin' and 'amount' columns\n",
    "clean_mf_data_copy = clean_mf_data_copy.drop_duplicates(subset=['pin', 'amount'])"
   ]
  },
  {
   "cell_type": "code",
   "execution_count": 25,
   "metadata": {},
   "outputs": [
    {
     "name": "stdout",
     "output_type": "stream",
     "text": [
      "<class 'pandas.core.frame.DataFrame'>\n",
      "Index: 27204 entries, 0 to 31858\n",
      "Data columns (total 9 columns):\n",
      " #   Column        Non-Null Count  Dtype  \n",
      "---  ------        --------------  -----  \n",
      " 0   _id           27204 non-null  int64  \n",
      " 1   pin           27204 non-null  object \n",
      " 2   block_lot     27204 non-null  object \n",
      " 3   filing_date   27204 non-null  object \n",
      " 4   case_id       27204 non-null  object \n",
      " 5   municipality  27204 non-null  object \n",
      " 6   docket_type   27204 non-null  object \n",
      " 7   amount        27204 non-null  float64\n",
      " 8   plaintiff     27204 non-null  object \n",
      "dtypes: float64(1), int64(1), object(7)\n",
      "memory usage: 2.1+ MB\n"
     ]
    }
   ],
   "source": [
    "# Check the data and see if \n",
    "# 'ward' and 'last_activity' columns are dropped\n",
    "# All rows with missing values are dropped\n",
    "clean_mf_data_copy.info()"
   ]
  },
  {
   "cell_type": "code",
   "execution_count": 26,
   "metadata": {},
   "outputs": [
    {
     "data": {
      "text/plain": [
       "0"
      ]
     },
     "execution_count": 26,
     "metadata": {},
     "output_type": "execute_result"
    }
   ],
   "source": [
    "# Check if there are any zero values in 'amount' column\n",
    "current_zero_count_v2 = (mf_data_copy['amount'] == 0).sum().item()\n",
    "current_zero_count_v2"
   ]
  },
  {
   "cell_type": "code",
   "execution_count": 27,
   "metadata": {},
   "outputs": [
    {
     "data": {
      "text/plain": [
       "0"
      ]
     },
     "execution_count": 27,
     "metadata": {},
     "output_type": "execute_result"
    }
   ],
   "source": [
    "# Check if all duplicate rows based on the 'pin' and 'amount' columns are removed\n",
    "mf_duplicated_columns_v2 = ['pin', 'amount']\n",
    "clean_mf_data_copy.duplicated(subset=mf_duplicated_columns_v2).sum().item()"
   ]
  },
  {
   "cell_type": "markdown",
   "metadata": {},
   "source": [
    "**The code above successfully performs the following operations:**\n",
    "<bar>\n",
    "1. Drops the columns 'ward' and 'last_activity', which contain a significant amount of missing values.\n",
    "2. Converts all zero values in the 'amount' column to NaN.\n",
    "3. Removes all rows with missing values.\n",
    "4. Removes duplicate rows based on the 'pin' and 'amount' columns, ensuring that each property record is unique and not recorded more than once."
   ]
  },
  {
   "cell_type": "markdown",
   "metadata": {
    "id": "n_DAUbJrymBL"
   },
   "source": [
    "### Quality Issue 2 - Tax Lien Data\n",
    "\n",
    "The 'total_amount' column contains 10 rows with a value of 0, which is a typo since tax lien amounts should exceed 0."
   ]
  },
  {
   "cell_type": "code",
   "execution_count": 28,
   "metadata": {
    "id": "5Yfb-Yu5MTuE"
   },
   "outputs": [],
   "source": [
    "# Replacing Zero Values with NaN in 'total_amount' Column\n",
    "tl_data_copy['total_amount'] = tl_data_copy['total_amount'].replace({0: np.nan})"
   ]
  },
  {
   "cell_type": "code",
   "execution_count": 29,
   "metadata": {
    "id": "ionB2sRaMUmY"
   },
   "outputs": [],
   "source": [
    "# Remove all missing values\n",
    "clean_tl_data_copy = tl_data_copy.dropna()"
   ]
  },
  {
   "cell_type": "code",
   "execution_count": 30,
   "metadata": {},
   "outputs": [
    {
     "name": "stdout",
     "output_type": "stream",
     "text": [
      "<class 'pandas.core.frame.DataFrame'>\n",
      "Index: 78745 entries, 0 to 78754\n",
      "Data columns (total 4 columns):\n",
      " #   Column        Non-Null Count  Dtype  \n",
      "---  ------        --------------  -----  \n",
      " 0   _id           78745 non-null  int64  \n",
      " 1   pin           78745 non-null  object \n",
      " 2   number        78745 non-null  int64  \n",
      " 3   total_amount  78745 non-null  float64\n",
      "dtypes: float64(1), int64(2), object(1)\n",
      "memory usage: 3.0+ MB\n"
     ]
    }
   ],
   "source": [
    "# Make sure there is no missing value left in the dataset\n",
    "clean_tl_data_copy.info()"
   ]
  },
  {
   "cell_type": "code",
   "execution_count": 31,
   "metadata": {},
   "outputs": [
    {
     "data": {
      "text/plain": [
       "0"
      ]
     },
     "execution_count": 31,
     "metadata": {},
     "output_type": "execute_result"
    }
   ],
   "source": [
    "# Check if there are any zero values in 'total_amount' column\n",
    "total_amount_zero_v2 = (clean_tl_data_copy['total_amount'] == 0).sum().item()\n",
    "total_amount_zero_v2"
   ]
  },
  {
   "cell_type": "markdown",
   "metadata": {},
   "source": [
    "**The code above successfully performs the following operations:**\n",
    "<bar>\n",
    "\n",
    "* Converted zero values in the ‘total_amount’ column to NaN and removed rows with missing data."
   ]
  },
  {
   "cell_type": "markdown",
   "metadata": {
    "id": "bIUrrfSNyOPR"
   },
   "source": [
    "### Tidiness Issue 1 - Mortgage Foreclosure Data\n",
    "\n",
    "The 'filing_date' column has the wrong data type. To facilitate data analysis, it needs to be converted to datetime during the cleaning stage."
   ]
  },
  {
   "cell_type": "code",
   "execution_count": 32,
   "metadata": {
    "id": "fib0zAm333bn"
   },
   "outputs": [],
   "source": [
    "# Change the data type of 'filing_date' from string to datetime\n",
    "clean_mf_data_copy.filing_date = pd.to_datetime(clean_mf_data_copy.filing_date)"
   ]
  },
  {
   "cell_type": "code",
   "execution_count": 33,
   "metadata": {
    "id": "yhrnUGY_Nk8B"
   },
   "outputs": [
    {
     "name": "stdout",
     "output_type": "stream",
     "text": [
      "<class 'pandas.core.frame.DataFrame'>\n",
      "Index: 27204 entries, 0 to 31858\n",
      "Data columns (total 9 columns):\n",
      " #   Column        Non-Null Count  Dtype         \n",
      "---  ------        --------------  -----         \n",
      " 0   _id           27204 non-null  int64         \n",
      " 1   pin           27204 non-null  object        \n",
      " 2   block_lot     27204 non-null  object        \n",
      " 3   filing_date   27204 non-null  datetime64[ns]\n",
      " 4   case_id       27204 non-null  object        \n",
      " 5   municipality  27204 non-null  object        \n",
      " 6   docket_type   27204 non-null  object        \n",
      " 7   amount        27204 non-null  float64       \n",
      " 8   plaintiff     27204 non-null  object        \n",
      "dtypes: datetime64[ns](1), float64(1), int64(1), object(6)\n",
      "memory usage: 2.1+ MB\n"
     ]
    }
   ],
   "source": [
    "#Check if the data type of 'filing_date' \n",
    "clean_mf_data_copy.info()"
   ]
  },
  {
   "cell_type": "markdown",
   "metadata": {},
   "source": [
    "**The code above successfully performs the following operations:**\n",
    "<bar>\n",
    "\n",
    "* The data type of ‘filing_date’ was originally categorized as a string in the dataset. To facilitate better data analysis, we converted the ‘filing_date’ data type to datetime."
   ]
  },
  {
   "cell_type": "markdown",
   "metadata": {
    "id": "o51Bt8kwyTzk"
   },
   "source": [
    "### Tidiness Issue 2 - Mortgage Foreclosure Data\n",
    "\n",
    "The 'case_id' column contains two variables, 'foreclosure_type' and 'case_id', which violates data tidiness guidelines."
   ]
  },
  {
   "cell_type": "code",
   "execution_count": 34,
   "metadata": {
    "id": "7zW8O5yx4Y9O"
   },
   "outputs": [],
   "source": [
    "# Split the column 'case_id' into 'foreclosure_type' and 'case_id' columns\n",
    "clean_mf_data_copy[['foreclosure_type', 'case_id']] = clean_mf_data_copy['case_id'].str.split('-', n=1, expand=True)"
   ]
  },
  {
   "cell_type": "code",
   "execution_count": 35,
   "metadata": {},
   "outputs": [
    {
     "data": {
      "text/html": [
       "<div>\n",
       "<style scoped>\n",
       "    .dataframe tbody tr th:only-of-type {\n",
       "        vertical-align: middle;\n",
       "    }\n",
       "\n",
       "    .dataframe tbody tr th {\n",
       "        vertical-align: top;\n",
       "    }\n",
       "\n",
       "    .dataframe thead th {\n",
       "        text-align: right;\n",
       "    }\n",
       "</style>\n",
       "<table border=\"1\" class=\"dataframe\">\n",
       "  <thead>\n",
       "    <tr style=\"text-align: right;\">\n",
       "      <th></th>\n",
       "      <th>_id</th>\n",
       "      <th>pin</th>\n",
       "      <th>block_lot</th>\n",
       "      <th>filing_date</th>\n",
       "      <th>case_id</th>\n",
       "      <th>municipality</th>\n",
       "      <th>docket_type</th>\n",
       "      <th>amount</th>\n",
       "      <th>plaintiff</th>\n",
       "      <th>foreclosure_type</th>\n",
       "    </tr>\n",
       "  </thead>\n",
       "  <tbody>\n",
       "    <tr>\n",
       "      <th>0</th>\n",
       "      <td>1</td>\n",
       "      <td>1222S00215000000</td>\n",
       "      <td>1222S215</td>\n",
       "      <td>2009-01-02</td>\n",
       "      <td>09-000087</td>\n",
       "      <td>Tarentum Boro</td>\n",
       "      <td>Sheriff Return</td>\n",
       "      <td>61821.09</td>\n",
       "      <td>Beneficial Consumer Discount Company</td>\n",
       "      <td>GD</td>\n",
       "    </tr>\n",
       "    <tr>\n",
       "      <th>1</th>\n",
       "      <td>2</td>\n",
       "      <td>1127N00019000000</td>\n",
       "      <td>1127N19</td>\n",
       "      <td>2009-01-02</td>\n",
       "      <td>09-000093</td>\n",
       "      <td>Elizabeth Township</td>\n",
       "      <td>Praecipe to Substitute</td>\n",
       "      <td>24531.41</td>\n",
       "      <td>National City Real Estate Services LLC</td>\n",
       "      <td>GD</td>\n",
       "    </tr>\n",
       "    <tr>\n",
       "      <th>2</th>\n",
       "      <td>3</td>\n",
       "      <td>0690C00043000000</td>\n",
       "      <td>690C43</td>\n",
       "      <td>2009-01-02</td>\n",
       "      <td>09-000110</td>\n",
       "      <td>N. Fayette Township</td>\n",
       "      <td>Sheriff Return</td>\n",
       "      <td>21787.83</td>\n",
       "      <td>JPMorgan Chase Bank National Association</td>\n",
       "      <td>GD</td>\n",
       "    </tr>\n",
       "    <tr>\n",
       "      <th>3</th>\n",
       "      <td>4</td>\n",
       "      <td>1414S00194000000</td>\n",
       "      <td>1414S194</td>\n",
       "      <td>2009-01-02</td>\n",
       "      <td>09-000111</td>\n",
       "      <td>Elizabeth Township</td>\n",
       "      <td>Certificate-Recorder of Deeds</td>\n",
       "      <td>63072.46</td>\n",
       "      <td>JPMorgan Chase Bank National Association</td>\n",
       "      <td>GD</td>\n",
       "    </tr>\n",
       "    <tr>\n",
       "      <th>4</th>\n",
       "      <td>5</td>\n",
       "      <td>0131D00016000000</td>\n",
       "      <td>131D16</td>\n",
       "      <td>2009-01-02</td>\n",
       "      <td>09-000112</td>\n",
       "      <td>Homestead Boro</td>\n",
       "      <td>Default Judgment</td>\n",
       "      <td>63693.10</td>\n",
       "      <td>Deutsche Bank National Trust Company</td>\n",
       "      <td>GD</td>\n",
       "    </tr>\n",
       "  </tbody>\n",
       "</table>\n",
       "</div>"
      ],
      "text/plain": [
       "   _id               pin block_lot filing_date    case_id  \\\n",
       "0    1  1222S00215000000  1222S215  2009-01-02  09-000087   \n",
       "1    2  1127N00019000000   1127N19  2009-01-02  09-000093   \n",
       "2    3  0690C00043000000    690C43  2009-01-02  09-000110   \n",
       "3    4  1414S00194000000  1414S194  2009-01-02  09-000111   \n",
       "4    5  0131D00016000000    131D16  2009-01-02  09-000112   \n",
       "\n",
       "          municipality                    docket_type    amount  \\\n",
       "0        Tarentum Boro                 Sheriff Return  61821.09   \n",
       "1   Elizabeth Township         Praecipe to Substitute  24531.41   \n",
       "2  N. Fayette Township                 Sheriff Return  21787.83   \n",
       "3   Elizabeth Township  Certificate-Recorder of Deeds  63072.46   \n",
       "4       Homestead Boro               Default Judgment  63693.10   \n",
       "\n",
       "                                  plaintiff foreclosure_type  \n",
       "0      Beneficial Consumer Discount Company               GD  \n",
       "1    National City Real Estate Services LLC               GD  \n",
       "2  JPMorgan Chase Bank National Association               GD  \n",
       "3  JPMorgan Chase Bank National Association               GD  \n",
       "4      Deutsche Bank National Trust Company               GD  "
      ]
     },
     "execution_count": 35,
     "metadata": {},
     "output_type": "execute_result"
    }
   ],
   "source": [
    "# Check if the split was done successfully\n",
    "clean_mf_data_copy.head()"
   ]
  },
  {
   "cell_type": "markdown",
   "metadata": {},
   "source": [
    "**Foreclosure Type Classification**:\n",
    "1. MG (Mortgage General): Narrow focus on mortgage-related foreclosures.<br>\n",
    "2. GD (General Docket): Broad scope, encompassing many types of civil disputes.<br><br>"
   ]
  },
  {
   "cell_type": "markdown",
   "metadata": {},
   "source": [
    "**The code above successfully performs the following operations:**\n",
    "<bar>\n",
    "\n",
    "* To achieve data tidiness and facilitate future data analysis, we splited the 'case_id' column into two separate columns: 'foreclosure_type' and 'case_id'."
   ]
  },
  {
   "cell_type": "markdown",
   "metadata": {},
   "source": [
    "### **Remove unnecessary variables and combine datasets**\n",
    "\n",
    "Depending on the datasets, you can also peform the combination before the cleaning steps."
   ]
  },
  {
   "cell_type": "code",
   "execution_count": 36,
   "metadata": {},
   "outputs": [
    {
     "data": {
      "text/html": [
       "<div>\n",
       "<style scoped>\n",
       "    .dataframe tbody tr th:only-of-type {\n",
       "        vertical-align: middle;\n",
       "    }\n",
       "\n",
       "    .dataframe tbody tr th {\n",
       "        vertical-align: top;\n",
       "    }\n",
       "\n",
       "    .dataframe thead th {\n",
       "        text-align: right;\n",
       "    }\n",
       "</style>\n",
       "<table border=\"1\" class=\"dataframe\">\n",
       "  <thead>\n",
       "    <tr style=\"text-align: right;\">\n",
       "      <th></th>\n",
       "      <th>_id</th>\n",
       "      <th>pin</th>\n",
       "      <th>block_lot</th>\n",
       "      <th>filing_date</th>\n",
       "      <th>case_id</th>\n",
       "      <th>municipality</th>\n",
       "      <th>docket_type</th>\n",
       "      <th>amount</th>\n",
       "      <th>plaintiff</th>\n",
       "      <th>foreclosure_type</th>\n",
       "    </tr>\n",
       "  </thead>\n",
       "  <tbody>\n",
       "    <tr>\n",
       "      <th>0</th>\n",
       "      <td>1</td>\n",
       "      <td>1222S00215000000</td>\n",
       "      <td>1222S215</td>\n",
       "      <td>2009-01-02</td>\n",
       "      <td>09-000087</td>\n",
       "      <td>Tarentum Boro</td>\n",
       "      <td>Sheriff Return</td>\n",
       "      <td>61821.09</td>\n",
       "      <td>Beneficial Consumer Discount Company</td>\n",
       "      <td>GD</td>\n",
       "    </tr>\n",
       "    <tr>\n",
       "      <th>1</th>\n",
       "      <td>2</td>\n",
       "      <td>1127N00019000000</td>\n",
       "      <td>1127N19</td>\n",
       "      <td>2009-01-02</td>\n",
       "      <td>09-000093</td>\n",
       "      <td>Elizabeth Township</td>\n",
       "      <td>Praecipe to Substitute</td>\n",
       "      <td>24531.41</td>\n",
       "      <td>National City Real Estate Services LLC</td>\n",
       "      <td>GD</td>\n",
       "    </tr>\n",
       "    <tr>\n",
       "      <th>2</th>\n",
       "      <td>3</td>\n",
       "      <td>0690C00043000000</td>\n",
       "      <td>690C43</td>\n",
       "      <td>2009-01-02</td>\n",
       "      <td>09-000110</td>\n",
       "      <td>N. Fayette Township</td>\n",
       "      <td>Sheriff Return</td>\n",
       "      <td>21787.83</td>\n",
       "      <td>JPMorgan Chase Bank National Association</td>\n",
       "      <td>GD</td>\n",
       "    </tr>\n",
       "    <tr>\n",
       "      <th>3</th>\n",
       "      <td>4</td>\n",
       "      <td>1414S00194000000</td>\n",
       "      <td>1414S194</td>\n",
       "      <td>2009-01-02</td>\n",
       "      <td>09-000111</td>\n",
       "      <td>Elizabeth Township</td>\n",
       "      <td>Certificate-Recorder of Deeds</td>\n",
       "      <td>63072.46</td>\n",
       "      <td>JPMorgan Chase Bank National Association</td>\n",
       "      <td>GD</td>\n",
       "    </tr>\n",
       "    <tr>\n",
       "      <th>4</th>\n",
       "      <td>5</td>\n",
       "      <td>0131D00016000000</td>\n",
       "      <td>131D16</td>\n",
       "      <td>2009-01-02</td>\n",
       "      <td>09-000112</td>\n",
       "      <td>Homestead Boro</td>\n",
       "      <td>Default Judgment</td>\n",
       "      <td>63693.10</td>\n",
       "      <td>Deutsche Bank National Trust Company</td>\n",
       "      <td>GD</td>\n",
       "    </tr>\n",
       "  </tbody>\n",
       "</table>\n",
       "</div>"
      ],
      "text/plain": [
       "   _id               pin block_lot filing_date    case_id  \\\n",
       "0    1  1222S00215000000  1222S215  2009-01-02  09-000087   \n",
       "1    2  1127N00019000000   1127N19  2009-01-02  09-000093   \n",
       "2    3  0690C00043000000    690C43  2009-01-02  09-000110   \n",
       "3    4  1414S00194000000  1414S194  2009-01-02  09-000111   \n",
       "4    5  0131D00016000000    131D16  2009-01-02  09-000112   \n",
       "\n",
       "          municipality                    docket_type    amount  \\\n",
       "0        Tarentum Boro                 Sheriff Return  61821.09   \n",
       "1   Elizabeth Township         Praecipe to Substitute  24531.41   \n",
       "2  N. Fayette Township                 Sheriff Return  21787.83   \n",
       "3   Elizabeth Township  Certificate-Recorder of Deeds  63072.46   \n",
       "4       Homestead Boro               Default Judgment  63693.10   \n",
       "\n",
       "                                  plaintiff foreclosure_type  \n",
       "0      Beneficial Consumer Discount Company               GD  \n",
       "1    National City Real Estate Services LLC               GD  \n",
       "2  JPMorgan Chase Bank National Association               GD  \n",
       "3  JPMorgan Chase Bank National Association               GD  \n",
       "4      Deutsche Bank National Trust Company               GD  "
      ]
     },
     "execution_count": 36,
     "metadata": {},
     "output_type": "execute_result"
    }
   ],
   "source": [
    "# Inspect the data and determine unnecessary variables\n",
    "clean_mf_data_copy.head()"
   ]
  },
  {
   "cell_type": "code",
   "execution_count": 37,
   "metadata": {},
   "outputs": [
    {
     "data": {
      "text/html": [
       "<div>\n",
       "<style scoped>\n",
       "    .dataframe tbody tr th:only-of-type {\n",
       "        vertical-align: middle;\n",
       "    }\n",
       "\n",
       "    .dataframe tbody tr th {\n",
       "        vertical-align: top;\n",
       "    }\n",
       "\n",
       "    .dataframe thead th {\n",
       "        text-align: right;\n",
       "    }\n",
       "</style>\n",
       "<table border=\"1\" class=\"dataframe\">\n",
       "  <thead>\n",
       "    <tr style=\"text-align: right;\">\n",
       "      <th></th>\n",
       "      <th>_id</th>\n",
       "      <th>pin</th>\n",
       "      <th>block_lot</th>\n",
       "      <th>filing_date</th>\n",
       "      <th>case_id</th>\n",
       "      <th>municipality</th>\n",
       "      <th>docket_type</th>\n",
       "      <th>mortgage_foreclosure_amount</th>\n",
       "      <th>plaintiff</th>\n",
       "      <th>foreclosure_type</th>\n",
       "    </tr>\n",
       "  </thead>\n",
       "  <tbody>\n",
       "    <tr>\n",
       "      <th>0</th>\n",
       "      <td>1</td>\n",
       "      <td>1222S00215000000</td>\n",
       "      <td>1222S215</td>\n",
       "      <td>2009-01-02</td>\n",
       "      <td>09-000087</td>\n",
       "      <td>Tarentum Boro</td>\n",
       "      <td>Sheriff Return</td>\n",
       "      <td>61821.09</td>\n",
       "      <td>Beneficial Consumer Discount Company</td>\n",
       "      <td>GD</td>\n",
       "    </tr>\n",
       "    <tr>\n",
       "      <th>1</th>\n",
       "      <td>2</td>\n",
       "      <td>1127N00019000000</td>\n",
       "      <td>1127N19</td>\n",
       "      <td>2009-01-02</td>\n",
       "      <td>09-000093</td>\n",
       "      <td>Elizabeth Township</td>\n",
       "      <td>Praecipe to Substitute</td>\n",
       "      <td>24531.41</td>\n",
       "      <td>National City Real Estate Services LLC</td>\n",
       "      <td>GD</td>\n",
       "    </tr>\n",
       "    <tr>\n",
       "      <th>2</th>\n",
       "      <td>3</td>\n",
       "      <td>0690C00043000000</td>\n",
       "      <td>690C43</td>\n",
       "      <td>2009-01-02</td>\n",
       "      <td>09-000110</td>\n",
       "      <td>N. Fayette Township</td>\n",
       "      <td>Sheriff Return</td>\n",
       "      <td>21787.83</td>\n",
       "      <td>JPMorgan Chase Bank National Association</td>\n",
       "      <td>GD</td>\n",
       "    </tr>\n",
       "    <tr>\n",
       "      <th>3</th>\n",
       "      <td>4</td>\n",
       "      <td>1414S00194000000</td>\n",
       "      <td>1414S194</td>\n",
       "      <td>2009-01-02</td>\n",
       "      <td>09-000111</td>\n",
       "      <td>Elizabeth Township</td>\n",
       "      <td>Certificate-Recorder of Deeds</td>\n",
       "      <td>63072.46</td>\n",
       "      <td>JPMorgan Chase Bank National Association</td>\n",
       "      <td>GD</td>\n",
       "    </tr>\n",
       "    <tr>\n",
       "      <th>4</th>\n",
       "      <td>5</td>\n",
       "      <td>0131D00016000000</td>\n",
       "      <td>131D16</td>\n",
       "      <td>2009-01-02</td>\n",
       "      <td>09-000112</td>\n",
       "      <td>Homestead Boro</td>\n",
       "      <td>Default Judgment</td>\n",
       "      <td>63693.10</td>\n",
       "      <td>Deutsche Bank National Trust Company</td>\n",
       "      <td>GD</td>\n",
       "    </tr>\n",
       "  </tbody>\n",
       "</table>\n",
       "</div>"
      ],
      "text/plain": [
       "   _id               pin block_lot filing_date    case_id  \\\n",
       "0    1  1222S00215000000  1222S215  2009-01-02  09-000087   \n",
       "1    2  1127N00019000000   1127N19  2009-01-02  09-000093   \n",
       "2    3  0690C00043000000    690C43  2009-01-02  09-000110   \n",
       "3    4  1414S00194000000  1414S194  2009-01-02  09-000111   \n",
       "4    5  0131D00016000000    131D16  2009-01-02  09-000112   \n",
       "\n",
       "          municipality                    docket_type  \\\n",
       "0        Tarentum Boro                 Sheriff Return   \n",
       "1   Elizabeth Township         Praecipe to Substitute   \n",
       "2  N. Fayette Township                 Sheriff Return   \n",
       "3   Elizabeth Township  Certificate-Recorder of Deeds   \n",
       "4       Homestead Boro               Default Judgment   \n",
       "\n",
       "   mortgage_foreclosure_amount                                 plaintiff  \\\n",
       "0                     61821.09      Beneficial Consumer Discount Company   \n",
       "1                     24531.41    National City Real Estate Services LLC   \n",
       "2                     21787.83  JPMorgan Chase Bank National Association   \n",
       "3                     63072.46  JPMorgan Chase Bank National Association   \n",
       "4                     63693.10      Deutsche Bank National Trust Company   \n",
       "\n",
       "  foreclosure_type  \n",
       "0               GD  \n",
       "1               GD  \n",
       "2               GD  \n",
       "3               GD  \n",
       "4               GD  "
      ]
     },
     "execution_count": 37,
     "metadata": {},
     "output_type": "execute_result"
    }
   ],
   "source": [
    "# Change the name of the column 'amount' to 'mortgage_foreclosure_amount' to facilitate future data analysis\n",
    "clean_mf_data_copy = clean_mf_data_copy.rename(columns = {'amount':'mortgage_foreclosure_amount'})\n",
    "clean_mf_data_copy.head()"
   ]
  },
  {
   "cell_type": "code",
   "execution_count": 38,
   "metadata": {},
   "outputs": [
    {
     "data": {
      "text/html": [
       "<div>\n",
       "<style scoped>\n",
       "    .dataframe tbody tr th:only-of-type {\n",
       "        vertical-align: middle;\n",
       "    }\n",
       "\n",
       "    .dataframe tbody tr th {\n",
       "        vertical-align: top;\n",
       "    }\n",
       "\n",
       "    .dataframe thead th {\n",
       "        text-align: right;\n",
       "    }\n",
       "</style>\n",
       "<table border=\"1\" class=\"dataframe\">\n",
       "  <thead>\n",
       "    <tr style=\"text-align: right;\">\n",
       "      <th></th>\n",
       "      <th>pin</th>\n",
       "      <th>filing_date</th>\n",
       "      <th>case_id</th>\n",
       "      <th>municipality</th>\n",
       "      <th>docket_type</th>\n",
       "      <th>mortgage_foreclosure_amount</th>\n",
       "      <th>plaintiff</th>\n",
       "      <th>foreclosure_type</th>\n",
       "    </tr>\n",
       "  </thead>\n",
       "  <tbody>\n",
       "    <tr>\n",
       "      <th>0</th>\n",
       "      <td>1222S00215000000</td>\n",
       "      <td>2009-01-02</td>\n",
       "      <td>09-000087</td>\n",
       "      <td>Tarentum Boro</td>\n",
       "      <td>Sheriff Return</td>\n",
       "      <td>61821.09</td>\n",
       "      <td>Beneficial Consumer Discount Company</td>\n",
       "      <td>GD</td>\n",
       "    </tr>\n",
       "    <tr>\n",
       "      <th>1</th>\n",
       "      <td>1127N00019000000</td>\n",
       "      <td>2009-01-02</td>\n",
       "      <td>09-000093</td>\n",
       "      <td>Elizabeth Township</td>\n",
       "      <td>Praecipe to Substitute</td>\n",
       "      <td>24531.41</td>\n",
       "      <td>National City Real Estate Services LLC</td>\n",
       "      <td>GD</td>\n",
       "    </tr>\n",
       "    <tr>\n",
       "      <th>2</th>\n",
       "      <td>0690C00043000000</td>\n",
       "      <td>2009-01-02</td>\n",
       "      <td>09-000110</td>\n",
       "      <td>N. Fayette Township</td>\n",
       "      <td>Sheriff Return</td>\n",
       "      <td>21787.83</td>\n",
       "      <td>JPMorgan Chase Bank National Association</td>\n",
       "      <td>GD</td>\n",
       "    </tr>\n",
       "    <tr>\n",
       "      <th>3</th>\n",
       "      <td>1414S00194000000</td>\n",
       "      <td>2009-01-02</td>\n",
       "      <td>09-000111</td>\n",
       "      <td>Elizabeth Township</td>\n",
       "      <td>Certificate-Recorder of Deeds</td>\n",
       "      <td>63072.46</td>\n",
       "      <td>JPMorgan Chase Bank National Association</td>\n",
       "      <td>GD</td>\n",
       "    </tr>\n",
       "    <tr>\n",
       "      <th>4</th>\n",
       "      <td>0131D00016000000</td>\n",
       "      <td>2009-01-02</td>\n",
       "      <td>09-000112</td>\n",
       "      <td>Homestead Boro</td>\n",
       "      <td>Default Judgment</td>\n",
       "      <td>63693.10</td>\n",
       "      <td>Deutsche Bank National Trust Company</td>\n",
       "      <td>GD</td>\n",
       "    </tr>\n",
       "  </tbody>\n",
       "</table>\n",
       "</div>"
      ],
      "text/plain": [
       "                pin filing_date    case_id         municipality  \\\n",
       "0  1222S00215000000  2009-01-02  09-000087        Tarentum Boro   \n",
       "1  1127N00019000000  2009-01-02  09-000093   Elizabeth Township   \n",
       "2  0690C00043000000  2009-01-02  09-000110  N. Fayette Township   \n",
       "3  1414S00194000000  2009-01-02  09-000111   Elizabeth Township   \n",
       "4  0131D00016000000  2009-01-02  09-000112       Homestead Boro   \n",
       "\n",
       "                     docket_type  mortgage_foreclosure_amount  \\\n",
       "0                 Sheriff Return                     61821.09   \n",
       "1         Praecipe to Substitute                     24531.41   \n",
       "2                 Sheriff Return                     21787.83   \n",
       "3  Certificate-Recorder of Deeds                     63072.46   \n",
       "4               Default Judgment                     63693.10   \n",
       "\n",
       "                                  plaintiff foreclosure_type  \n",
       "0      Beneficial Consumer Discount Company               GD  \n",
       "1    National City Real Estate Services LLC               GD  \n",
       "2  JPMorgan Chase Bank National Association               GD  \n",
       "3  JPMorgan Chase Bank National Association               GD  \n",
       "4      Deutsche Bank National Trust Company               GD  "
      ]
     },
     "execution_count": 38,
     "metadata": {},
     "output_type": "execute_result"
    }
   ],
   "source": [
    "# Drop unnecessary variables - '_id', and 'block_lot'\n",
    "clean_mf_data_copy = clean_mf_data_copy.drop(['_id', 'block_lot'], axis=1)\n",
    "clean_mf_data_copy.head()"
   ]
  },
  {
   "cell_type": "code",
   "execution_count": 39,
   "metadata": {},
   "outputs": [
    {
     "data": {
      "text/html": [
       "<div>\n",
       "<style scoped>\n",
       "    .dataframe tbody tr th:only-of-type {\n",
       "        vertical-align: middle;\n",
       "    }\n",
       "\n",
       "    .dataframe tbody tr th {\n",
       "        vertical-align: top;\n",
       "    }\n",
       "\n",
       "    .dataframe thead th {\n",
       "        text-align: right;\n",
       "    }\n",
       "</style>\n",
       "<table border=\"1\" class=\"dataframe\">\n",
       "  <thead>\n",
       "    <tr style=\"text-align: right;\">\n",
       "      <th></th>\n",
       "      <th>_id</th>\n",
       "      <th>pin</th>\n",
       "      <th>number</th>\n",
       "      <th>total_amount</th>\n",
       "    </tr>\n",
       "  </thead>\n",
       "  <tbody>\n",
       "    <tr>\n",
       "      <th>0</th>\n",
       "      <td>1953139</td>\n",
       "      <td>0001B00010000000</td>\n",
       "      <td>11</td>\n",
       "      <td>13585.47</td>\n",
       "    </tr>\n",
       "    <tr>\n",
       "      <th>1</th>\n",
       "      <td>1953140</td>\n",
       "      <td>0001C00058000000</td>\n",
       "      <td>2</td>\n",
       "      <td>7827.64</td>\n",
       "    </tr>\n",
       "    <tr>\n",
       "      <th>2</th>\n",
       "      <td>1953141</td>\n",
       "      <td>0001C016610W2100</td>\n",
       "      <td>1</td>\n",
       "      <td>805.33</td>\n",
       "    </tr>\n",
       "    <tr>\n",
       "      <th>3</th>\n",
       "      <td>1953142</td>\n",
       "      <td>0001C01661W13700</td>\n",
       "      <td>3</td>\n",
       "      <td>3654.30</td>\n",
       "    </tr>\n",
       "    <tr>\n",
       "      <th>4</th>\n",
       "      <td>1953143</td>\n",
       "      <td>0001C01661W21800</td>\n",
       "      <td>1</td>\n",
       "      <td>121.13</td>\n",
       "    </tr>\n",
       "  </tbody>\n",
       "</table>\n",
       "</div>"
      ],
      "text/plain": [
       "       _id               pin  number  total_amount\n",
       "0  1953139  0001B00010000000      11      13585.47\n",
       "1  1953140  0001C00058000000       2       7827.64\n",
       "2  1953141  0001C016610W2100       1        805.33\n",
       "3  1953142  0001C01661W13700       3       3654.30\n",
       "4  1953143  0001C01661W21800       1        121.13"
      ]
     },
     "execution_count": 39,
     "metadata": {},
     "output_type": "execute_result"
    }
   ],
   "source": [
    "# Inspect the data and determine unnecessary variables\n",
    "clean_tl_data_copy.head()"
   ]
  },
  {
   "cell_type": "code",
   "execution_count": 40,
   "metadata": {},
   "outputs": [
    {
     "data": {
      "text/html": [
       "<div>\n",
       "<style scoped>\n",
       "    .dataframe tbody tr th:only-of-type {\n",
       "        vertical-align: middle;\n",
       "    }\n",
       "\n",
       "    .dataframe tbody tr th {\n",
       "        vertical-align: top;\n",
       "    }\n",
       "\n",
       "    .dataframe thead th {\n",
       "        text-align: right;\n",
       "    }\n",
       "</style>\n",
       "<table border=\"1\" class=\"dataframe\">\n",
       "  <thead>\n",
       "    <tr style=\"text-align: right;\">\n",
       "      <th></th>\n",
       "      <th>_id</th>\n",
       "      <th>pin</th>\n",
       "      <th>number</th>\n",
       "      <th>tax_lien_amount</th>\n",
       "    </tr>\n",
       "  </thead>\n",
       "  <tbody>\n",
       "    <tr>\n",
       "      <th>0</th>\n",
       "      <td>1953139</td>\n",
       "      <td>0001B00010000000</td>\n",
       "      <td>11</td>\n",
       "      <td>13585.47</td>\n",
       "    </tr>\n",
       "    <tr>\n",
       "      <th>1</th>\n",
       "      <td>1953140</td>\n",
       "      <td>0001C00058000000</td>\n",
       "      <td>2</td>\n",
       "      <td>7827.64</td>\n",
       "    </tr>\n",
       "    <tr>\n",
       "      <th>2</th>\n",
       "      <td>1953141</td>\n",
       "      <td>0001C016610W2100</td>\n",
       "      <td>1</td>\n",
       "      <td>805.33</td>\n",
       "    </tr>\n",
       "    <tr>\n",
       "      <th>3</th>\n",
       "      <td>1953142</td>\n",
       "      <td>0001C01661W13700</td>\n",
       "      <td>3</td>\n",
       "      <td>3654.30</td>\n",
       "    </tr>\n",
       "    <tr>\n",
       "      <th>4</th>\n",
       "      <td>1953143</td>\n",
       "      <td>0001C01661W21800</td>\n",
       "      <td>1</td>\n",
       "      <td>121.13</td>\n",
       "    </tr>\n",
       "  </tbody>\n",
       "</table>\n",
       "</div>"
      ],
      "text/plain": [
       "       _id               pin  number  tax_lien_amount\n",
       "0  1953139  0001B00010000000      11         13585.47\n",
       "1  1953140  0001C00058000000       2          7827.64\n",
       "2  1953141  0001C016610W2100       1           805.33\n",
       "3  1953142  0001C01661W13700       3          3654.30\n",
       "4  1953143  0001C01661W21800       1           121.13"
      ]
     },
     "execution_count": 40,
     "metadata": {},
     "output_type": "execute_result"
    }
   ],
   "source": [
    "# Change the name of the column 'total_amount' to 'tax_lien_amount' to facilitate future data analysis\n",
    "clean_tl_data_copy = clean_tl_data_copy.rename(columns = {'total_amount':'tax_lien_amount'})\n",
    "clean_tl_data_copy.head()"
   ]
  },
  {
   "cell_type": "code",
   "execution_count": 41,
   "metadata": {},
   "outputs": [
    {
     "data": {
      "text/html": [
       "<div>\n",
       "<style scoped>\n",
       "    .dataframe tbody tr th:only-of-type {\n",
       "        vertical-align: middle;\n",
       "    }\n",
       "\n",
       "    .dataframe tbody tr th {\n",
       "        vertical-align: top;\n",
       "    }\n",
       "\n",
       "    .dataframe thead th {\n",
       "        text-align: right;\n",
       "    }\n",
       "</style>\n",
       "<table border=\"1\" class=\"dataframe\">\n",
       "  <thead>\n",
       "    <tr style=\"text-align: right;\">\n",
       "      <th></th>\n",
       "      <th>pin</th>\n",
       "      <th>tax_lien_amount</th>\n",
       "    </tr>\n",
       "  </thead>\n",
       "  <tbody>\n",
       "    <tr>\n",
       "      <th>0</th>\n",
       "      <td>0001B00010000000</td>\n",
       "      <td>13585.47</td>\n",
       "    </tr>\n",
       "    <tr>\n",
       "      <th>1</th>\n",
       "      <td>0001C00058000000</td>\n",
       "      <td>7827.64</td>\n",
       "    </tr>\n",
       "    <tr>\n",
       "      <th>2</th>\n",
       "      <td>0001C016610W2100</td>\n",
       "      <td>805.33</td>\n",
       "    </tr>\n",
       "    <tr>\n",
       "      <th>3</th>\n",
       "      <td>0001C01661W13700</td>\n",
       "      <td>3654.30</td>\n",
       "    </tr>\n",
       "    <tr>\n",
       "      <th>4</th>\n",
       "      <td>0001C01661W21800</td>\n",
       "      <td>121.13</td>\n",
       "    </tr>\n",
       "  </tbody>\n",
       "</table>\n",
       "</div>"
      ],
      "text/plain": [
       "                pin  tax_lien_amount\n",
       "0  0001B00010000000         13585.47\n",
       "1  0001C00058000000          7827.64\n",
       "2  0001C016610W2100           805.33\n",
       "3  0001C01661W13700          3654.30\n",
       "4  0001C01661W21800           121.13"
      ]
     },
     "execution_count": 41,
     "metadata": {},
     "output_type": "execute_result"
    }
   ],
   "source": [
    "# Drop the unnecessary variables - '_id', and 'number'\n",
    "clean_tl_data_copy = clean_tl_data_copy.drop(['_id', 'number'], axis=1)\n",
    "clean_tl_data_copy.head()"
   ]
  },
  {
   "cell_type": "code",
   "execution_count": 42,
   "metadata": {},
   "outputs": [
    {
     "data": {
      "text/html": [
       "<div>\n",
       "<style scoped>\n",
       "    .dataframe tbody tr th:only-of-type {\n",
       "        vertical-align: middle;\n",
       "    }\n",
       "\n",
       "    .dataframe tbody tr th {\n",
       "        vertical-align: top;\n",
       "    }\n",
       "\n",
       "    .dataframe thead th {\n",
       "        text-align: right;\n",
       "    }\n",
       "</style>\n",
       "<table border=\"1\" class=\"dataframe\">\n",
       "  <thead>\n",
       "    <tr style=\"text-align: right;\">\n",
       "      <th></th>\n",
       "      <th>pin</th>\n",
       "      <th>tax_lien_amount</th>\n",
       "      <th>filing_date</th>\n",
       "      <th>case_id</th>\n",
       "      <th>municipality</th>\n",
       "      <th>docket_type</th>\n",
       "      <th>mortgage_foreclosure_amount</th>\n",
       "      <th>plaintiff</th>\n",
       "      <th>foreclosure_type</th>\n",
       "    </tr>\n",
       "  </thead>\n",
       "  <tbody>\n",
       "    <tr>\n",
       "      <th>0</th>\n",
       "      <td>0001C01662021600</td>\n",
       "      <td>5042.88</td>\n",
       "      <td>2015-06-18</td>\n",
       "      <td>15-010558</td>\n",
       "      <td>Pittsburgh</td>\n",
       "      <td>Sheriff Return</td>\n",
       "      <td>9580.00</td>\n",
       "      <td>Gateway Towers Condominium Association Inc.</td>\n",
       "      <td>GD</td>\n",
       "    </tr>\n",
       "    <tr>\n",
       "      <th>1</th>\n",
       "      <td>0001C01662021600</td>\n",
       "      <td>5042.88</td>\n",
       "      <td>2016-07-26</td>\n",
       "      <td>16-013827</td>\n",
       "      <td>Pittsburgh</td>\n",
       "      <td>Notice</td>\n",
       "      <td>10107.00</td>\n",
       "      <td>Gateway Towers Condominium Association Inc.</td>\n",
       "      <td>GD</td>\n",
       "    </tr>\n",
       "    <tr>\n",
       "      <th>2</th>\n",
       "      <td>0001D00066000000</td>\n",
       "      <td>22377.20</td>\n",
       "      <td>2010-05-21</td>\n",
       "      <td>10-010205</td>\n",
       "      <td>Pittsburgh</td>\n",
       "      <td>Sheriff Return</td>\n",
       "      <td>21492753.69</td>\n",
       "      <td>U.S. Bank National Association</td>\n",
       "      <td>GD</td>\n",
       "    </tr>\n",
       "    <tr>\n",
       "      <th>3</th>\n",
       "      <td>0001D00259C70900</td>\n",
       "      <td>4130.10</td>\n",
       "      <td>2017-02-08</td>\n",
       "      <td>17-002075</td>\n",
       "      <td>Pittsburgh</td>\n",
       "      <td>Settled and Discontinued</td>\n",
       "      <td>562329.07</td>\n",
       "      <td>Slovenian Savings and Loan Association of Cano...</td>\n",
       "      <td>GD</td>\n",
       "    </tr>\n",
       "    <tr>\n",
       "      <th>4</th>\n",
       "      <td>0001D00259C70900</td>\n",
       "      <td>4130.10</td>\n",
       "      <td>2017-05-11</td>\n",
       "      <td>17-000610</td>\n",
       "      <td>Pittsburgh</td>\n",
       "      <td>Order of Court</td>\n",
       "      <td>574965.87</td>\n",
       "      <td>Slovenian Savings and Loan Association of Cano...</td>\n",
       "      <td>MG</td>\n",
       "    </tr>\n",
       "  </tbody>\n",
       "</table>\n",
       "</div>"
      ],
      "text/plain": [
       "                pin  tax_lien_amount filing_date    case_id municipality  \\\n",
       "0  0001C01662021600          5042.88  2015-06-18  15-010558   Pittsburgh   \n",
       "1  0001C01662021600          5042.88  2016-07-26  16-013827   Pittsburgh   \n",
       "2  0001D00066000000         22377.20  2010-05-21  10-010205   Pittsburgh   \n",
       "3  0001D00259C70900          4130.10  2017-02-08  17-002075   Pittsburgh   \n",
       "4  0001D00259C70900          4130.10  2017-05-11  17-000610   Pittsburgh   \n",
       "\n",
       "                docket_type  mortgage_foreclosure_amount  \\\n",
       "0            Sheriff Return                      9580.00   \n",
       "1                    Notice                     10107.00   \n",
       "2            Sheriff Return                  21492753.69   \n",
       "3  Settled and Discontinued                    562329.07   \n",
       "4            Order of Court                    574965.87   \n",
       "\n",
       "                                           plaintiff foreclosure_type  \n",
       "0        Gateway Towers Condominium Association Inc.               GD  \n",
       "1        Gateway Towers Condominium Association Inc.               GD  \n",
       "2                     U.S. Bank National Association               GD  \n",
       "3  Slovenian Savings and Loan Association of Cano...               GD  \n",
       "4  Slovenian Savings and Loan Association of Cano...               MG  "
      ]
     },
     "execution_count": 42,
     "metadata": {},
     "output_type": "execute_result"
    }
   ],
   "source": [
    "# Merge the two datasets on the 'pin' column using an inner join\n",
    "merge_clean = pd.merge(clean_tl_data_copy, clean_mf_data_copy, on=['pin'], how='inner')\n",
    "merge_clean.head()"
   ]
  },
  {
   "cell_type": "code",
   "execution_count": 43,
   "metadata": {},
   "outputs": [
    {
     "name": "stdout",
     "output_type": "stream",
     "text": [
      "<class 'pandas.core.frame.DataFrame'>\n",
      "RangeIndex: 3565 entries, 0 to 3564\n",
      "Data columns (total 9 columns):\n",
      " #   Column                       Non-Null Count  Dtype         \n",
      "---  ------                       --------------  -----         \n",
      " 0   pin                          3565 non-null   object        \n",
      " 1   tax_lien_amount              3565 non-null   float64       \n",
      " 2   filing_date                  3565 non-null   datetime64[ns]\n",
      " 3   case_id                      3565 non-null   object        \n",
      " 4   municipality                 3565 non-null   object        \n",
      " 5   docket_type                  3565 non-null   object        \n",
      " 6   mortgage_foreclosure_amount  3565 non-null   float64       \n",
      " 7   plaintiff                    3565 non-null   object        \n",
      " 8   foreclosure_type             3565 non-null   object        \n",
      "dtypes: datetime64[ns](1), float64(2), object(6)\n",
      "memory usage: 250.8+ KB\n"
     ]
    }
   ],
   "source": [
    "# Inspect the merged dataset after inner merge\n",
    "merge_clean.info()"
   ]
  },
  {
   "cell_type": "markdown",
   "metadata": {},
   "source": [
    "The code renames columns for clarity, drops unnecessary variables, and merges two datasets for streamlined analysis. Renaming 'amount' to 'mortgage_foreclosure_amount' and 'total_amount' to 'tax_lien_amount' enhances readability. Dropping '_id', 'block_lot', and 'number' removes redundant data. Finally, merging on 'pin' consolidates relevant information into a single dataset, facilitating efficient analysis."
   ]
  },
  {
   "cell_type": "markdown",
   "metadata": {
    "id": "F42urHuzttjF"
   },
   "source": [
    "## 4. Update the data store\n",
    "Update the local database/data store with the cleaned data"
   ]
  },
  {
   "cell_type": "code",
   "execution_count": 44,
   "metadata": {
    "id": "V3uay7EJUV_L"
   },
   "outputs": [],
   "source": [
    "# Save the merged dataset file to the local data store\n",
    "merge_clean.to_csv('merge_MortgageForeclosure_TaxLien_Clean.csv', index=False, encoding=\"utf-8\")"
   ]
  },
  {
   "cell_type": "code",
   "execution_count": 45,
   "metadata": {},
   "outputs": [],
   "source": [
    "# Save the cleaned mortgage foreclosure dataset file to the local data store\n",
    "clean_mf_data_copy.to_csv('Allegheny_County_Mortgage_Foreclosure_Records_Clean.csv', index=False, encoding=\"utf-8\")"
   ]
  },
  {
   "cell_type": "code",
   "execution_count": 46,
   "metadata": {},
   "outputs": [],
   "source": [
    "# Save the cleaned tax lien dataset file to the local data store\n",
    "clean_tl_data_copy.to_csv('Allegheny_County_Tax_Liens_Clean.csv', index=False, encoding=\"utf-8\")"
   ]
  },
  {
   "cell_type": "markdown",
   "metadata": {
    "id": "cGy_yddGtzhM"
   },
   "source": [
    "## 5. Answer the research question\n"
   ]
  },
  {
   "cell_type": "markdown",
   "metadata": {
    "id": "gjedE4s4ZkEd"
   },
   "source": [
    "**Research question 1:** What are the top 5 municipalities with the highest total mortgage foreclosure amounts?"
   ]
  },
  {
   "cell_type": "code",
   "execution_count": 47,
   "metadata": {},
   "outputs": [],
   "source": [
    "# Group the 'merge_clean' DataFrame by 'municipality', without sorting the groups, and aggregate\n",
    "# the 'mortgage_foreclosure_amount' column by summing the amounts for each municipality\n",
    "merge_clean_group_municipality = merge_clean.groupby('municipality', sort=False).agg({\n",
    "    'mortgage_foreclosure_amount': 'sum'})"
   ]
  },
  {
   "cell_type": "code",
   "execution_count": 48,
   "metadata": {
    "scrolled": true
   },
   "outputs": [
    {
     "data": {
      "text/html": [
       "<div>\n",
       "<style scoped>\n",
       "    .dataframe tbody tr th:only-of-type {\n",
       "        vertical-align: middle;\n",
       "    }\n",
       "\n",
       "    .dataframe tbody tr th {\n",
       "        vertical-align: top;\n",
       "    }\n",
       "\n",
       "    .dataframe thead th {\n",
       "        text-align: right;\n",
       "    }\n",
       "</style>\n",
       "<table border=\"1\" class=\"dataframe\">\n",
       "  <thead>\n",
       "    <tr style=\"text-align: right;\">\n",
       "      <th></th>\n",
       "      <th>mortgage_foreclosure_amount</th>\n",
       "    </tr>\n",
       "    <tr>\n",
       "      <th>municipality</th>\n",
       "      <th></th>\n",
       "    </tr>\n",
       "  </thead>\n",
       "  <tbody>\n",
       "    <tr>\n",
       "      <th>Pittsburgh</th>\n",
       "      <td>79294788.07</td>\n",
       "    </tr>\n",
       "    <tr>\n",
       "      <th>Bellevue Boro</th>\n",
       "      <td>1837787.98</td>\n",
       "    </tr>\n",
       "    <tr>\n",
       "      <th>Mt. Oliver Boro</th>\n",
       "      <td>2248929.79</td>\n",
       "    </tr>\n",
       "    <tr>\n",
       "      <th>Mt. Lebanon Township</th>\n",
       "      <td>3865882.19</td>\n",
       "    </tr>\n",
       "    <tr>\n",
       "      <th>McCandless Township</th>\n",
       "      <td>1547760.35</td>\n",
       "    </tr>\n",
       "  </tbody>\n",
       "</table>\n",
       "</div>"
      ],
      "text/plain": [
       "                      mortgage_foreclosure_amount\n",
       "municipality                                     \n",
       "Pittsburgh                            79294788.07\n",
       "Bellevue Boro                          1837787.98\n",
       "Mt. Oliver Boro                        2248929.79\n",
       "Mt. Lebanon Township                   3865882.19\n",
       "McCandless Township                    1547760.35"
      ]
     },
     "execution_count": 48,
     "metadata": {},
     "output_type": "execute_result"
    }
   ],
   "source": [
    "# Inspect merge_clean_group_municipality dataframe\n",
    "merge_clean_group_municipality.head()"
   ]
  },
  {
   "cell_type": "code",
   "execution_count": 49,
   "metadata": {},
   "outputs": [],
   "source": [
    "# Set pandas option to disable scientific notation\n",
    "pd.options.display.float_format = '{:.2f}'.format"
   ]
  },
  {
   "cell_type": "code",
   "execution_count": 50,
   "metadata": {
    "scrolled": false
   },
   "outputs": [
    {
     "data": {
      "text/html": [
       "<div>\n",
       "<style scoped>\n",
       "    .dataframe tbody tr th:only-of-type {\n",
       "        vertical-align: middle;\n",
       "    }\n",
       "\n",
       "    .dataframe tbody tr th {\n",
       "        vertical-align: top;\n",
       "    }\n",
       "\n",
       "    .dataframe thead th {\n",
       "        text-align: right;\n",
       "    }\n",
       "</style>\n",
       "<table border=\"1\" class=\"dataframe\">\n",
       "  <thead>\n",
       "    <tr style=\"text-align: right;\">\n",
       "      <th></th>\n",
       "      <th>mortgage_foreclosure_amount</th>\n",
       "    </tr>\n",
       "    <tr>\n",
       "      <th>municipality</th>\n",
       "      <th></th>\n",
       "    </tr>\n",
       "  </thead>\n",
       "  <tbody>\n",
       "    <tr>\n",
       "      <th>City of Clairton</th>\n",
       "      <td>137822174.28</td>\n",
       "    </tr>\n",
       "    <tr>\n",
       "      <th>Pittsburgh</th>\n",
       "      <td>79294788.07</td>\n",
       "    </tr>\n",
       "    <tr>\n",
       "      <th>Harrison Township</th>\n",
       "      <td>32831589.32</td>\n",
       "    </tr>\n",
       "    <tr>\n",
       "      <th>West Mifflin Boro</th>\n",
       "      <td>24699182.19</td>\n",
       "    </tr>\n",
       "    <tr>\n",
       "      <th>Monroeville Boro</th>\n",
       "      <td>17484546.52</td>\n",
       "    </tr>\n",
       "  </tbody>\n",
       "</table>\n",
       "</div>"
      ],
      "text/plain": [
       "                   mortgage_foreclosure_amount\n",
       "municipality                                  \n",
       "City of Clairton                  137822174.28\n",
       "Pittsburgh                         79294788.07\n",
       "Harrison Township                  32831589.32\n",
       "West Mifflin Boro                  24699182.19\n",
       "Monroeville Boro                   17484546.52"
      ]
     },
     "execution_count": 50,
     "metadata": {},
     "output_type": "execute_result"
    }
   ],
   "source": [
    "# Sort the merged, cleaned, and grouped municipality DataFrame by 'mortgage_foreclosure_amount' in descending order\n",
    "top_5_municipality_sort = merge_clean_group_municipality.sort_values(by='mortgage_foreclosure_amount', ascending=False)\n",
    "# Drop all but the top 5 rows from the sorted DataFrame to keep only the top 5 municipalities by 'mortgage_foreclosure_amount'\n",
    "top_5_municipality = top_5_municipality_sort.drop(top_5_municipality_sort.index[5:])\n",
    "# Display the top 5 municipalities by 'mortgage_foreclosure_amount'\n",
    "top_5_municipality"
   ]
  },
  {
   "cell_type": "code",
   "execution_count": 51,
   "metadata": {
    "scrolled": false
   },
   "outputs": [
    {
     "data": {
      "text/html": [
       "<div>\n",
       "<style scoped>\n",
       "    .dataframe tbody tr th:only-of-type {\n",
       "        vertical-align: middle;\n",
       "    }\n",
       "\n",
       "    .dataframe tbody tr th {\n",
       "        vertical-align: top;\n",
       "    }\n",
       "\n",
       "    .dataframe thead th {\n",
       "        text-align: right;\n",
       "    }\n",
       "</style>\n",
       "<table border=\"1\" class=\"dataframe\">\n",
       "  <thead>\n",
       "    <tr style=\"text-align: right;\">\n",
       "      <th></th>\n",
       "      <th>municipality</th>\n",
       "      <th>mortgage_foreclosure_amount</th>\n",
       "    </tr>\n",
       "  </thead>\n",
       "  <tbody>\n",
       "    <tr>\n",
       "      <th>0</th>\n",
       "      <td>City of Clairton</td>\n",
       "      <td>137822174.28</td>\n",
       "    </tr>\n",
       "    <tr>\n",
       "      <th>1</th>\n",
       "      <td>Pittsburgh</td>\n",
       "      <td>79294788.07</td>\n",
       "    </tr>\n",
       "    <tr>\n",
       "      <th>2</th>\n",
       "      <td>Harrison Township</td>\n",
       "      <td>32831589.32</td>\n",
       "    </tr>\n",
       "    <tr>\n",
       "      <th>3</th>\n",
       "      <td>West Mifflin Boro</td>\n",
       "      <td>24699182.19</td>\n",
       "    </tr>\n",
       "    <tr>\n",
       "      <th>4</th>\n",
       "      <td>Monroeville Boro</td>\n",
       "      <td>17484546.52</td>\n",
       "    </tr>\n",
       "  </tbody>\n",
       "</table>\n",
       "</div>"
      ],
      "text/plain": [
       "        municipality  mortgage_foreclosure_amount\n",
       "0   City of Clairton                 137822174.28\n",
       "1         Pittsburgh                  79294788.07\n",
       "2  Harrison Township                  32831589.32\n",
       "3  West Mifflin Boro                  24699182.19\n",
       "4   Monroeville Boro                  17484546.52"
      ]
     },
     "execution_count": 51,
     "metadata": {},
     "output_type": "execute_result"
    }
   ],
   "source": [
    "# Reset the index of the DataFrame to convert the current index into a column and create a new sequential index\n",
    "top_5_municipality = top_5_municipality.reset_index()\n",
    "# Inspect the dataframe\n",
    "top_5_municipality"
   ]
  },
  {
   "cell_type": "code",
   "execution_count": 52,
   "metadata": {},
   "outputs": [
    {
     "name": "stdout",
     "output_type": "stream",
     "text": [
      "<class 'pandas.core.frame.DataFrame'>\n",
      "RangeIndex: 5 entries, 0 to 4\n",
      "Data columns (total 2 columns):\n",
      " #   Column                       Non-Null Count  Dtype  \n",
      "---  ------                       --------------  -----  \n",
      " 0   municipality                 5 non-null      object \n",
      " 1   mortgage_foreclosure_amount  5 non-null      float64\n",
      "dtypes: float64(1), object(1)\n",
      "memory usage: 208.0+ bytes\n"
     ]
    }
   ],
   "source": [
    "# Convert the 'mortgage_foreclosure_amount' column to float type to ensure numerical operations can be performed accurately\n",
    "top_5_municipality['mortgage_foreclosure_amount'] = top_5_municipality['mortgage_foreclosure_amount'].astype(float)\n",
    "# Display information about the DataFrame including the data types of each column and non-null counts\n",
    "top_5_municipality.info()"
   ]
  },
  {
   "cell_type": "code",
   "execution_count": 53,
   "metadata": {
    "id": "Lkw3rW9kZmOm",
    "scrolled": true
   },
   "outputs": [],
   "source": [
    "# Set up a function for plotting bar charts below\n",
    "# Plot a bar chart for the top 5 entries in the DataFrame based on a specified value column.\n",
    "def plot_top_5_total_mortgage_foreclosure(df, title_col, value_col, x_label, y_label, chart_title):\n",
    "    plt.figure(figsize=(11, 6))\n",
    "    plt.bar(df[title_col], df[value_col])\n",
    "    plt.xlabel(x_label)\n",
    "    plt.ylabel(y_label)\n",
    "    plt.title(chart_title)\n",
    "    plt.xticks(rotation=45)\n",
    "    plt.show()"
   ]
  },
  {
   "cell_type": "code",
   "execution_count": 54,
   "metadata": {},
   "outputs": [
    {
     "data": {
      "image/png": "[encoded data removed]",
      "text/plain": [
       "<Figure size 1100x600 with 1 Axes>"
      ]
     },
     "metadata": {},
     "output_type": "display_data"
    }
   ],
   "source": [
    "# Create a new figure for the plot with a specified size of 11 inches by 6 inches\n",
    "plt.figure(figsize=(11, 6))\n",
    "\n",
    "# Create a bar chart using the 'municipality' column for the x-axis and 'mortgage_foreclosure_amount' column for the y-axis\n",
    "plt.bar(top_5_municipality['municipality'], top_5_municipality['mortgage_foreclosure_amount'])\n",
    "\n",
    "# Set the label for the x-axis\n",
    "plt.xlabel('Municipality Name')\n",
    "\n",
    "# Set the label for the y-axis\n",
    "plt.ylabel('Mortgage Foreclosure Amount - Total')\n",
    "\n",
    "# Set the title of the bar chart\n",
    "plt.title('Top 5 Municipalities with Highest Mortgage Foreclosure')\n",
    "\n",
    "# Rotate the x-axis labels by 45 degrees for better readability\n",
    "plt.xticks(rotation=45);"
   ]
  },
  {
   "cell_type": "markdown",
   "metadata": {},
   "source": [
    "**Answer to research question 1:** City of Clairton, Pittsburgh, Harrison Township, West Mifflin Boro, Monroeville Boro are top 5 municipalities with the highest mortgage foreclosure amounts.<bar><bar><bar>\n",
    "\n",
    "The visualization helps answer the question by providing a clear, visual representation of the top 5 municipalities with the highest mortgage foreclosure amounts. By plotting the data in a bar chart, it becomes easier to compare the foreclosure amounts across different municipalities, identify patterns, and draw insights at a glance, thereby facilitating better data interpretation and decision-making."
   ]
  },
  {
   "cell_type": "markdown",
   "metadata": {},
   "source": [
    "<bar><bar><bar><bar><bar>**Research question 2:** What are the top 5 municipalities with the highest total tax lien amounts?"
   ]
  },
  {
   "cell_type": "code",
   "execution_count": 55,
   "metadata": {
    "id": "6fdK_8ZGZm9R"
   },
   "outputs": [],
   "source": [
    "# Group the 'merge_clean' DataFrame by 'municipality', without sorting the groups, and aggregate\n",
    "# the 'tax_lien_amount' column by summing the amounts for each municipality\n",
    "merge_clean_group_municipality_v2 = merge_clean.groupby('municipality', sort=False).agg({\n",
    "    'tax_lien_amount': 'sum'})"
   ]
  },
  {
   "cell_type": "code",
   "execution_count": 56,
   "metadata": {},
   "outputs": [
    {
     "data": {
      "text/html": [
       "<div>\n",
       "<style scoped>\n",
       "    .dataframe tbody tr th:only-of-type {\n",
       "        vertical-align: middle;\n",
       "    }\n",
       "\n",
       "    .dataframe tbody tr th {\n",
       "        vertical-align: top;\n",
       "    }\n",
       "\n",
       "    .dataframe thead th {\n",
       "        text-align: right;\n",
       "    }\n",
       "</style>\n",
       "<table border=\"1\" class=\"dataframe\">\n",
       "  <thead>\n",
       "    <tr style=\"text-align: right;\">\n",
       "      <th></th>\n",
       "      <th>tax_lien_amount</th>\n",
       "    </tr>\n",
       "    <tr>\n",
       "      <th>municipality</th>\n",
       "      <th></th>\n",
       "    </tr>\n",
       "  </thead>\n",
       "  <tbody>\n",
       "    <tr>\n",
       "      <th>Pittsburgh</th>\n",
       "      <td>1785225.77</td>\n",
       "    </tr>\n",
       "    <tr>\n",
       "      <th>Bellevue Boro</th>\n",
       "      <td>35989.91</td>\n",
       "    </tr>\n",
       "    <tr>\n",
       "      <th>Mt. Oliver Boro</th>\n",
       "      <td>60385.59</td>\n",
       "    </tr>\n",
       "    <tr>\n",
       "      <th>Mt. Lebanon Township</th>\n",
       "      <td>106174.18</td>\n",
       "    </tr>\n",
       "    <tr>\n",
       "      <th>McCandless Township</th>\n",
       "      <td>31444.33</td>\n",
       "    </tr>\n",
       "  </tbody>\n",
       "</table>\n",
       "</div>"
      ],
      "text/plain": [
       "                      tax_lien_amount\n",
       "municipality                         \n",
       "Pittsburgh                 1785225.77\n",
       "Bellevue Boro                35989.91\n",
       "Mt. Oliver Boro              60385.59\n",
       "Mt. Lebanon Township        106174.18\n",
       "McCandless Township          31444.33"
      ]
     },
     "execution_count": 56,
     "metadata": {},
     "output_type": "execute_result"
    }
   ],
   "source": [
    "# Inspect merge_clean_group_municipality dataframe\n",
    "merge_clean_group_municipality_v2.head()"
   ]
  },
  {
   "cell_type": "code",
   "execution_count": 57,
   "metadata": {},
   "outputs": [
    {
     "data": {
      "text/html": [
       "<div>\n",
       "<style scoped>\n",
       "    .dataframe tbody tr th:only-of-type {\n",
       "        vertical-align: middle;\n",
       "    }\n",
       "\n",
       "    .dataframe tbody tr th {\n",
       "        vertical-align: top;\n",
       "    }\n",
       "\n",
       "    .dataframe thead th {\n",
       "        text-align: right;\n",
       "    }\n",
       "</style>\n",
       "<table border=\"1\" class=\"dataframe\">\n",
       "  <thead>\n",
       "    <tr style=\"text-align: right;\">\n",
       "      <th></th>\n",
       "      <th>tax_lien_amount</th>\n",
       "    </tr>\n",
       "    <tr>\n",
       "      <th>municipality</th>\n",
       "      <th></th>\n",
       "    </tr>\n",
       "  </thead>\n",
       "  <tbody>\n",
       "    <tr>\n",
       "      <th>Pittsburgh</th>\n",
       "      <td>1785225.77</td>\n",
       "    </tr>\n",
       "    <tr>\n",
       "      <th>Monroeville Boro</th>\n",
       "      <td>657881.86</td>\n",
       "    </tr>\n",
       "    <tr>\n",
       "      <th>Penn Hills Township</th>\n",
       "      <td>486778.64</td>\n",
       "    </tr>\n",
       "    <tr>\n",
       "      <th>N. Versailles Twp.</th>\n",
       "      <td>447874.70</td>\n",
       "    </tr>\n",
       "    <tr>\n",
       "      <th>West Mifflin Boro</th>\n",
       "      <td>430554.11</td>\n",
       "    </tr>\n",
       "  </tbody>\n",
       "</table>\n",
       "</div>"
      ],
      "text/plain": [
       "                     tax_lien_amount\n",
       "municipality                        \n",
       "Pittsburgh                1785225.77\n",
       "Monroeville Boro           657881.86\n",
       "Penn Hills Township        486778.64\n",
       "N. Versailles Twp.         447874.70\n",
       "West Mifflin Boro          430554.11"
      ]
     },
     "execution_count": 57,
     "metadata": {},
     "output_type": "execute_result"
    }
   ],
   "source": [
    "# Sort the merged, cleaned, and grouped municipality DataFrame by 'tax_lien_amount' in descending order\n",
    "top_5_municipality_sort_v2 = merge_clean_group_municipality_v2.sort_values(by='tax_lien_amount', ascending=False)\n",
    "# Drop all but the top 5 rows from the sorted DataFrame to keep only the top 5 municipalities by 'tax_lien_amount'\n",
    "top_5_municipality_v2 = top_5_municipality_sort_v2.drop(top_5_municipality_sort_v2.index[5:])\n",
    "# Display the top 5 municipalities by 'tax_lien_amount'\n",
    "top_5_municipality_v2"
   ]
  },
  {
   "cell_type": "code",
   "execution_count": 58,
   "metadata": {},
   "outputs": [
    {
     "data": {
      "text/html": [
       "<div>\n",
       "<style scoped>\n",
       "    .dataframe tbody tr th:only-of-type {\n",
       "        vertical-align: middle;\n",
       "    }\n",
       "\n",
       "    .dataframe tbody tr th {\n",
       "        vertical-align: top;\n",
       "    }\n",
       "\n",
       "    .dataframe thead th {\n",
       "        text-align: right;\n",
       "    }\n",
       "</style>\n",
       "<table border=\"1\" class=\"dataframe\">\n",
       "  <thead>\n",
       "    <tr style=\"text-align: right;\">\n",
       "      <th></th>\n",
       "      <th>municipality</th>\n",
       "      <th>tax_lien_amount</th>\n",
       "    </tr>\n",
       "  </thead>\n",
       "  <tbody>\n",
       "    <tr>\n",
       "      <th>0</th>\n",
       "      <td>Pittsburgh</td>\n",
       "      <td>1785225.77</td>\n",
       "    </tr>\n",
       "    <tr>\n",
       "      <th>1</th>\n",
       "      <td>Monroeville Boro</td>\n",
       "      <td>657881.86</td>\n",
       "    </tr>\n",
       "    <tr>\n",
       "      <th>2</th>\n",
       "      <td>Penn Hills Township</td>\n",
       "      <td>486778.64</td>\n",
       "    </tr>\n",
       "    <tr>\n",
       "      <th>3</th>\n",
       "      <td>N. Versailles Twp.</td>\n",
       "      <td>447874.70</td>\n",
       "    </tr>\n",
       "    <tr>\n",
       "      <th>4</th>\n",
       "      <td>West Mifflin Boro</td>\n",
       "      <td>430554.11</td>\n",
       "    </tr>\n",
       "  </tbody>\n",
       "</table>\n",
       "</div>"
      ],
      "text/plain": [
       "          municipality  tax_lien_amount\n",
       "0           Pittsburgh       1785225.77\n",
       "1     Monroeville Boro        657881.86\n",
       "2  Penn Hills Township        486778.64\n",
       "3   N. Versailles Twp.        447874.70\n",
       "4    West Mifflin Boro        430554.11"
      ]
     },
     "execution_count": 58,
     "metadata": {},
     "output_type": "execute_result"
    }
   ],
   "source": [
    "# Reset the index of the DataFrame to convert the current index into a column and create a new sequential index\n",
    "top_5_municipality_v2 = top_5_municipality_v2.reset_index()\n",
    "# Inspect the dataframe\n",
    "top_5_municipality_v2"
   ]
  },
  {
   "cell_type": "code",
   "execution_count": 59,
   "metadata": {},
   "outputs": [],
   "source": [
    "# Set up a function for plotting bar charts below\n",
    "# Plot a bar chart for the top 5 entries in the DataFrame based on a specified value column.\n",
    "def plot_top_5_total_tax_lien(df, title_col, value_col, x_label, y_label, chart_title):\n",
    "    plt.figure(figsize=(11, 6))\n",
    "    plt.bar(df[title_col], df[value_col])\n",
    "    plt.xlabel(x_label)\n",
    "    plt.ylabel(y_label)\n",
    "    plt.title(chart_title)\n",
    "    plt.xticks(rotation=45)\n",
    "    plt.show()"
   ]
  },
  {
   "cell_type": "code",
   "execution_count": 60,
   "metadata": {
    "scrolled": false
   },
   "outputs": [
    {
     "data": {
      "image/png": "[encoded data removed]",
      "text/plain": [
       "<Figure size 1100x600 with 1 Axes>"
      ]
     },
     "metadata": {},
     "output_type": "display_data"
    }
   ],
   "source": [
    "# Create a new figure for the plot with a specified size of 11 inches by 6 inches\n",
    "plt.figure(figsize=(11, 6))\n",
    "\n",
    "# Create a bar chart using the 'municipality' column for the x-axis and 'mortgage_foreclosure_amount' column for the y-axis\n",
    "plt.bar(top_5_municipality_v2['municipality'], top_5_municipality_v2['tax_lien_amount'])\n",
    "\n",
    "# Set the label for the x-axis\n",
    "plt.xlabel('Municipality Name')\n",
    "\n",
    "# Set the label for the y-axis\n",
    "plt.ylabel('Tax Lien Amount - Total')\n",
    "\n",
    "# Set the title of the bar chart\n",
    "plt.title('Top 5 Municipalities with Highest Tax Lien')\n",
    "\n",
    "# Rotate the x-axis labels by 45 degrees for better readability\n",
    "plt.xticks(rotation=45);"
   ]
  },
  {
   "cell_type": "markdown",
   "metadata": {
    "id": "K5RgvMGUZoHn"
   },
   "source": [
    "**Answer to research question 2:** Pittsburgh, Monroeville Boro, Penn Hills Township, N. Versailles Twp., and West Mifflin Boro are top 5 municipalities with the highest tax lien amounts.<bar><bar><bar>\n",
    "    \n",
    "Visualizing data with a bar chart helps in understanding the distribution of tax lien amounts among different municipalities. It allows for easy comparison of tax lien amounts, highlighting the top municipalities with the highest tax liens. This visual representation makes it easier to identify trends, patterns, and outliers, facilitating more informed decision-making and analysis."
   ]
  },
  {
   "cell_type": "markdown",
   "metadata": {
    "id": "0ezWXXZVj-TP"
   },
   "source": [
    "### **5.2:** Reflection\n"
   ]
  },
  {
   "cell_type": "markdown",
   "metadata": {
    "id": "XB3RBDG5kFe1"
   },
   "source": [
    "I would conduct a time series analysis to examine trends and patterns in foreclosure rates over time. This would involve analyzing the dataset across different time periods to identify seasonal effects, cyclical trends, or long-term shifts in foreclosure activity. By leveraging time series models, I could forecast future foreclosure rates and assess the potential impact of economic and policy changes. "
   ]
  }
 ],
 "metadata": {
  "colab": {
   "provenance": []
  },
  "kernelspec": {
   "display_name": "Python 3 (ipykernel)",
   "language": "python",
   "name": "python3"
  },
  "language_info": {
   "codemirror_mode": {
    "name": "ipython",
    "version": 3
   },
   "file_extension": ".py",
   "mimetype": "text/x-python",
   "name": "python",
   "nbconvert_exporter": "python",
   "pygments_lexer": "ipython3",
   "version": "3.10.11"
  }
 },
 "nbformat": 4,
 "nbformat_minor": 1
}
